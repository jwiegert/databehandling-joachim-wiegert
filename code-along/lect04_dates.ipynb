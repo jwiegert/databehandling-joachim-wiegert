{
 "cells": [
  {
   "cell_type": "markdown",
   "metadata": {},
   "source": [
    "# Date time\n",
    "\n",
    "Documentation at [https://docs.python.org/3/library/datetime.html](https://docs.python.org/3/library/datetime.html)\n"
   ]
  },
  {
   "cell_type": "code",
   "execution_count": 1,
   "metadata": {},
   "outputs": [
    {
     "data": {
      "text/plain": [
       "datetime.datetime(2021, 11, 1, 9, 24, 19, 792723)"
      ]
     },
     "execution_count": 1,
     "metadata": {},
     "output_type": "execute_result"
    }
   ],
   "source": [
    "from datetime import datetime\n",
    "\n",
    "# datetime is a class from this module, so we create the object \"now\"\n",
    "now = datetime.now()\n",
    "now\n"
   ]
  },
  {
   "cell_type": "code",
   "execution_count": 5,
   "metadata": {},
   "outputs": [
    {
     "name": "stdout",
     "output_type": "stream",
     "text": [
      "Today's date is 2021-11-01\n",
      "Today's day is Monday\n",
      "Today's day is Monday, the week is 44 \n"
     ]
    }
   ],
   "source": [
    "# Date\n",
    "print(f\"Today's date is {now.date()}\")\n",
    "\n",
    "# Week day, string f-time. Check documentation\n",
    "print(f\"Today's day is {now.strftime('%A')}\")\n",
    "\n",
    "# string-f-time makes obj to string\n",
    "print(f\"Today's day is {now.strftime('%A')}, the week is {now.strftime('%W')} \")\n",
    "\n"
   ]
  },
  {
   "cell_type": "code",
   "execution_count": 7,
   "metadata": {},
   "outputs": [
    {
     "name": "stdout",
     "output_type": "stream",
     "text": [
      "2023-05-19 00:00:00\n"
     ]
    }
   ],
   "source": [
    "# graduation day is\n",
    "graduation_day = \"19/5-2023\"\n",
    "\n",
    "# We want to change this to a datetime object! So that we can compute with it.\n",
    "# string-p-time changes string to object!\n",
    "# But we must write it in a correct format.\n",
    "# So we call the string and then write what format we used.\n",
    "graduation_day = datetime.strptime(graduation_day, \"%d/%m-%Y\")\n",
    "\n",
    "graduation_day # This calls a __repr__, more for developer\n",
    "\n",
    "print(graduation_day) # Calls __str__, more user friendly\n",
    "\n"
   ]
  },
  {
   "cell_type": "code",
   "execution_count": 14,
   "metadata": {},
   "outputs": [
    {
     "name": "stdout",
     "output_type": "stream",
     "text": [
      "563 days, 14:35:40.207277\n"
     ]
    },
    {
     "data": {
      "text/plain": [
       "1.5424657534246575"
      ]
     },
     "execution_count": 14,
     "metadata": {},
     "output_type": "execute_result"
    }
   ],
   "source": [
    "# Now we can compute with these objects\n",
    "remaining_time = graduation_day - now\n",
    "\n",
    "print(remaining_time)\n",
    "\n",
    "# can also compute things and check for example number of years left.\n",
    "remaining_time.days/365"
   ]
  },
  {
   "cell_type": "code",
   "execution_count": null,
   "metadata": {},
   "outputs": [],
   "source": []
  }
 ],
 "metadata": {
  "interpreter": {
   "hash": "c0552d8ae2bf90ff01336472fa628af8a30caa12cfa3faa676995d0ab64866b9"
  },
  "kernelspec": {
   "display_name": "Python 3.8.10 64-bit ('databehandling-joachim-wiegert-Okb5rNS4': pipenv)",
   "name": "python3"
  },
  "language_info": {
   "codemirror_mode": {
    "name": "ipython",
    "version": 3
   },
   "file_extension": ".py",
   "mimetype": "text/x-python",
   "name": "python",
   "nbconvert_exporter": "python",
   "pygments_lexer": "ipython3",
   "version": "3.8.10"
  },
  "orig_nbformat": 4
 },
 "nbformat": 4,
 "nbformat_minor": 2
}
