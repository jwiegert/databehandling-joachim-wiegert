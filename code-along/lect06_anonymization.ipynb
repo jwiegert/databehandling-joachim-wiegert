{
 "cells": [
  {
   "cell_type": "markdown",
   "metadata": {},
   "source": [
    "# Anonymization with hash values"
   ]
  },
  {
   "cell_type": "code",
   "execution_count": 9,
   "metadata": {},
   "outputs": [
    {
     "name": "stdout",
     "output_type": "stream",
     "text": [
      "b'gore_bord@gmail.com'\n",
      "<sha256 HASH object @ 0x7f13511a7cd0>\n",
      "7d6d9a849ccc7f5febe065ebe3b4f39558fc96ef865e02333dd7b7426ff0c057\n",
      "7d6d9a849ccc7f5febe065ebe3b4f39558fc96ef865e02333dd7b7426ff0c057\n"
     ]
    }
   ],
   "source": [
    "import hashlib as hl\n",
    "\n",
    "# Create a message we want to be secret\n",
    "# .encode() encodes it as utf8\n",
    "secret = \"gore_bord@gmail.com\".encode()\n",
    "\n",
    "print(secret)\n",
    "\n",
    "# Choose a hassh function from hl\n",
    "# Which to chose? Depends on what you need, read documentation\n",
    "# This creates a hash object\n",
    "print(hl.sha256(secret))\n",
    "\n",
    "# Get the hexadecimal value for this:\n",
    "print(hl.sha256(secret).hexdigest())\n",
    "\n",
    "# Check that it's the same with a new object\n",
    "print(hl.sha256(\"gore_bord@gmail.com\".encode()).hexdigest())\n",
    "\n",
    "\n"
   ]
  },
  {
   "cell_type": "code",
   "execution_count": 12,
   "metadata": {},
   "outputs": [
    {
     "name": "stdout",
     "output_type": "stream",
     "text": [
      "7d6d9a849ccc7f5febe065ebe3b4f39558fc96ef865e02333dd7b7426ff0c057\n",
      "0290afd54f254c13b9b8c0d6037e4aaf26c65bb025b1815f2ef8a81f3042d7dc\n"
     ]
    },
    {
     "data": {
      "text/plain": [
       "True"
      ]
     },
     "execution_count": 12,
     "metadata": {},
     "output_type": "execute_result"
    }
   ],
   "source": [
    "# Test with two very similar messages\n",
    "secret1 = \"gore_bord@gmail.com\".encode()\n",
    "secret2 = \"gore_bord1@gmail.com\".encode()\n",
    "\n",
    "# And it's VERY different\n",
    "print(hl.sha256(secret1).hexdigest())\n",
    "print(hl.sha256(secret2).hexdigest())\n",
    "\n",
    "# Check similarities with previous\n",
    "hl.sha256(secret).hexdigest() == hl.sha256(secret1).hexdigest()\n"
   ]
  },
  {
   "cell_type": "markdown",
   "metadata": {},
   "source": [
    "# Examples with Pandas"
   ]
  },
  {
   "cell_type": "code",
   "execution_count": 19,
   "metadata": {},
   "outputs": [
    {
     "name": "stdout",
     "output_type": "stream",
     "text": [
      "Index(['CLIENTNUM', 'Attrition_Flag', 'Customer_Age', 'Gender',\n",
      "       'Dependent_count', 'Education_Level', 'Marital_Status',\n",
      "       'Income_Category', 'Card_Category', 'Months_on_book',\n",
      "       'Total_Relationship_Count', 'Months_Inactive_12_mon',\n",
      "       'Contacts_Count_12_mon', 'Credit_Limit', 'Total_Revolving_Bal',\n",
      "       'Avg_Open_To_Buy', 'Total_Amt_Chng_Q4_Q1', 'Total_Trans_Amt',\n",
      "       'Total_Trans_Ct', 'Total_Ct_Chng_Q4_Q1', 'Avg_Utilization_Ratio',\n",
      "       'Naive_Bayes_Classifier_Attrition_Flag_Card_Category_Contacts_Count_12_mon_Dependent_count_Education_Level_Months_Inactive_12_mon_1',\n",
      "       'Naive_Bayes_Classifier_Attrition_Flag_Card_Category_Contacts_Count_12_mon_Dependent_count_Education_Level_Months_Inactive_12_mon_2'],\n",
      "      dtype='object')\n",
      "0    768805383\n",
      "1    818770008\n",
      "2    713982108\n",
      "3    769911858\n",
      "4    709106358\n",
      "Name: CLIENTNUM, dtype: int64\n",
      "0    768805383\n",
      "1    818770008\n",
      "2    713982108\n",
      "3    769911858\n",
      "4    709106358\n",
      "Name: CLIENTNUM, dtype: object\n"
     ]
    }
   ],
   "source": [
    "import pandas as pd\n",
    "\n",
    "bank = pd.read_csv(\"../data/BankChurners.csv\")\n",
    "\n",
    "print(bank.columns)\n",
    "\n",
    "# A lot of columns, but we want to hash the client number, CLIENTNUM\n",
    "print(bank[\"CLIENTNUM\"].head())\n",
    "\n",
    "# They are ints, change to string to be able to hash these\n",
    "bank[\"CLIENTNUM\"] = bank[\"CLIENTNUM\"].astype(str)\n",
    "print(bank[\"CLIENTNUM\"].head())"
   ]
  },
  {
   "cell_type": "code",
   "execution_count": null,
   "metadata": {},
   "outputs": [],
   "source": []
  }
 ],
 "metadata": {
  "interpreter": {
   "hash": "c0552d8ae2bf90ff01336472fa628af8a30caa12cfa3faa676995d0ab64866b9"
  },
  "kernelspec": {
   "display_name": "Python 3.8.10 64-bit ('databehandling-joachim-wiegert-Okb5rNS4': pipenv)",
   "name": "python3"
  },
  "language_info": {
   "codemirror_mode": {
    "name": "ipython",
    "version": 3
   },
   "file_extension": ".py",
   "mimetype": "text/x-python",
   "name": "python",
   "nbconvert_exporter": "python",
   "pygments_lexer": "ipython3",
   "version": "3.8.10"
  },
  "orig_nbformat": 4
 },
 "nbformat": 4,
 "nbformat_minor": 2
}
