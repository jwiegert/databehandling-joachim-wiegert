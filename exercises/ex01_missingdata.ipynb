{
 "cells": [
  {
   "cell_type": "markdown",
   "metadata": {},
   "source": [
    "# 1. Find missing values (*)\n",
    "\n",
    "  a) Read in the file \"student-mat-missing-data.csv\" into a Pandas DataFrame\n",
    "\n",
    "  b) Do some initial explorations with the methods to get an understanding of the dataset:\n",
    "\n",
    "> head(), info(), describe(), value_counts(), unique(), columns()\n",
    "\n",
    "  c) Create a function that takes in a DataFrame as input parameter and plots a barplot with the columns that have missing values. Put this function into a file called data_utils.py. When you come across more useful functions, you can store them in your data_utils module.\n",
    "\n",
    "  d) Now import your function from the module data_utils and use it to visualize NaNs in your dataset.\n",
    "\n",
    "  e) Find all rows where the freetime is NaN.\n",
    "\n",
    "  f) Find all rows where the freetime or the age is NaN.\n",
    "\n",
    "  g) You will notice that some rows have several NaNs. Now compute the proportion that these rows constitute of the whole dataset."
   ]
  },
  {
   "cell_type": "code",
   "execution_count": 113,
   "metadata": {},
   "outputs": [
    {
     "data": {
      "image/png": "[encoded data removed]",
      "text/plain": [
       "<Figure size 432x288 with 1 Axes>"
      ]
     },
     "metadata": {
      "needs_background": "light"
     },
     "output_type": "display_data"
    }
   ],
   "source": [
    "import pandas as pd\n",
    "import seaborn as sns\n",
    "import plotly_express as px\n",
    "import data_utils as du\n",
    "\n",
    "#a) Read in the file \"student-mat-missing-data.csv\" into a Pandas DataFrame\n",
    "\n",
    "\n",
    "df_student_rawdata = pd.read_csv('../data/student-mat-missing-data.csv')\n",
    "\n",
    "#  b) Do some initial explorations with the methods to get an understanding of the dataset:\n",
    "\n",
    "\n",
    "# columnes:\n",
    "# ['Unnamed: 0', 'school', 'sex', 'age', 'address', 'famsize', 'Pstatus',\n",
    "#       'Medu', 'Fedu', 'Mjob', 'Fjob', 'reason', 'guardian', 'traveltime',\n",
    "#       'studytime', 'failures', 'schoolsup', 'famsup', 'paid', 'activities',\n",
    "#       'nursery', 'higher', 'internet', 'romantic', 'famrel', 'freetime',\n",
    "#       'goout', 'Dalc', 'Walc', 'health', 'absences', 'G1', 'G2', 'G3']\n",
    "\n",
    "#df_student_rawdata[\"famsup\"].unique()\n",
    "#df_student_rawdata.describe()\n",
    "# drop \"Unnamed: 0\", just indeces\n",
    "\n",
    "# c) Create a function that takes in a DataFrame as input parameter and plots a barplot\n",
    "#  with the columns that have missing values. Put this function into a file called\n",
    "#  data_utils.py. When you come across more useful functions, you can store them in your\n",
    "#  data_utils module.\n",
    "\n",
    "df_student, Nnans = du.extract_nan_columns(df_student_rawdata)\n"
   ]
  },
  {
   "cell_type": "code",
   "execution_count": 114,
   "metadata": {},
   "outputs": [
    {
     "data": {
      "text/html": [
       "<div>\n",
       "<style scoped>\n",
       "    .dataframe tbody tr th:only-of-type {\n",
       "        vertical-align: middle;\n",
       "    }\n",
       "\n",
       "    .dataframe tbody tr th {\n",
       "        vertical-align: top;\n",
       "    }\n",
       "\n",
       "    .dataframe thead th {\n",
       "        text-align: right;\n",
       "    }\n",
       "</style>\n",
       "<table border=\"1\" class=\"dataframe\">\n",
       "  <thead>\n",
       "    <tr style=\"text-align: right;\">\n",
       "      <th></th>\n",
       "      <th>age</th>\n",
       "      <th>address</th>\n",
       "      <th>famrel</th>\n",
       "      <th>freetime</th>\n",
       "      <th>goout</th>\n",
       "      <th>health</th>\n",
       "      <th>absences</th>\n",
       "    </tr>\n",
       "  </thead>\n",
       "  <tbody>\n",
       "    <tr>\n",
       "      <th>87</th>\n",
       "      <td>15.0</td>\n",
       "      <td>U</td>\n",
       "      <td>5.0</td>\n",
       "      <td>NaN</td>\n",
       "      <td>3.0</td>\n",
       "      <td>1.0</td>\n",
       "      <td>4.0</td>\n",
       "    </tr>\n",
       "    <tr>\n",
       "      <th>99</th>\n",
       "      <td>16.0</td>\n",
       "      <td>U</td>\n",
       "      <td>5.0</td>\n",
       "      <td>NaN</td>\n",
       "      <td>5.0</td>\n",
       "      <td>3.0</td>\n",
       "      <td>0.0</td>\n",
       "    </tr>\n",
       "    <tr>\n",
       "      <th>130</th>\n",
       "      <td>15.0</td>\n",
       "      <td>R</td>\n",
       "      <td>4.0</td>\n",
       "      <td>NaN</td>\n",
       "      <td>2.0</td>\n",
       "      <td>5.0</td>\n",
       "      <td>0.0</td>\n",
       "    </tr>\n",
       "    <tr>\n",
       "      <th>149</th>\n",
       "      <td>15.0</td>\n",
       "      <td>U</td>\n",
       "      <td>4.0</td>\n",
       "      <td>NaN</td>\n",
       "      <td>5.0</td>\n",
       "      <td>5.0</td>\n",
       "      <td>0.0</td>\n",
       "    </tr>\n",
       "    <tr>\n",
       "      <th>151</th>\n",
       "      <td>16.0</td>\n",
       "      <td>U</td>\n",
       "      <td>4.0</td>\n",
       "      <td>NaN</td>\n",
       "      <td>4.0</td>\n",
       "      <td>5.0</td>\n",
       "      <td>6.0</td>\n",
       "    </tr>\n",
       "    <tr>\n",
       "      <th>160</th>\n",
       "      <td>NaN</td>\n",
       "      <td>NaN</td>\n",
       "      <td>NaN</td>\n",
       "      <td>NaN</td>\n",
       "      <td>NaN</td>\n",
       "      <td>NaN</td>\n",
       "      <td>NaN</td>\n",
       "    </tr>\n",
       "    <tr>\n",
       "      <th>191</th>\n",
       "      <td>NaN</td>\n",
       "      <td>NaN</td>\n",
       "      <td>NaN</td>\n",
       "      <td>NaN</td>\n",
       "      <td>NaN</td>\n",
       "      <td>NaN</td>\n",
       "      <td>NaN</td>\n",
       "    </tr>\n",
       "    <tr>\n",
       "      <th>257</th>\n",
       "      <td>19.0</td>\n",
       "      <td>U</td>\n",
       "      <td>4.0</td>\n",
       "      <td>NaN</td>\n",
       "      <td>1.0</td>\n",
       "      <td>1.0</td>\n",
       "      <td>12.0</td>\n",
       "    </tr>\n",
       "    <tr>\n",
       "      <th>276</th>\n",
       "      <td>NaN</td>\n",
       "      <td>NaN</td>\n",
       "      <td>NaN</td>\n",
       "      <td>NaN</td>\n",
       "      <td>NaN</td>\n",
       "      <td>NaN</td>\n",
       "      <td>NaN</td>\n",
       "    </tr>\n",
       "    <tr>\n",
       "      <th>293</th>\n",
       "      <td>NaN</td>\n",
       "      <td>NaN</td>\n",
       "      <td>NaN</td>\n",
       "      <td>NaN</td>\n",
       "      <td>NaN</td>\n",
       "      <td>NaN</td>\n",
       "      <td>NaN</td>\n",
       "    </tr>\n",
       "    <tr>\n",
       "      <th>308</th>\n",
       "      <td>19.0</td>\n",
       "      <td>R</td>\n",
       "      <td>4.0</td>\n",
       "      <td>NaN</td>\n",
       "      <td>3.0</td>\n",
       "      <td>5.0</td>\n",
       "      <td>0.0</td>\n",
       "    </tr>\n",
       "    <tr>\n",
       "      <th>330</th>\n",
       "      <td>18.0</td>\n",
       "      <td>U</td>\n",
       "      <td>4.0</td>\n",
       "      <td>NaN</td>\n",
       "      <td>5.0</td>\n",
       "      <td>5.0</td>\n",
       "      <td>2.0</td>\n",
       "    </tr>\n",
       "    <tr>\n",
       "      <th>343</th>\n",
       "      <td>17.0</td>\n",
       "      <td>U</td>\n",
       "      <td>3.0</td>\n",
       "      <td>NaN</td>\n",
       "      <td>1.0</td>\n",
       "      <td>4.0</td>\n",
       "      <td>0.0</td>\n",
       "    </tr>\n",
       "    <tr>\n",
       "      <th>359</th>\n",
       "      <td>18.0</td>\n",
       "      <td>U</td>\n",
       "      <td>5.0</td>\n",
       "      <td>NaN</td>\n",
       "      <td>2.0</td>\n",
       "      <td>4.0</td>\n",
       "      <td>0.0</td>\n",
       "    </tr>\n",
       "    <tr>\n",
       "      <th>372</th>\n",
       "      <td>17.0</td>\n",
       "      <td>U</td>\n",
       "      <td>3.0</td>\n",
       "      <td>NaN</td>\n",
       "      <td>3.0</td>\n",
       "      <td>3.0</td>\n",
       "      <td>8.0</td>\n",
       "    </tr>\n",
       "    <tr>\n",
       "      <th>385</th>\n",
       "      <td>NaN</td>\n",
       "      <td>NaN</td>\n",
       "      <td>NaN</td>\n",
       "      <td>NaN</td>\n",
       "      <td>NaN</td>\n",
       "      <td>NaN</td>\n",
       "      <td>NaN</td>\n",
       "    </tr>\n",
       "  </tbody>\n",
       "</table>\n",
       "</div>"
      ],
      "text/plain": [
       "      age address  famrel  freetime  goout  health  absences\n",
       "87   15.0       U     5.0       NaN    3.0     1.0       4.0\n",
       "99   16.0       U     5.0       NaN    5.0     3.0       0.0\n",
       "130  15.0       R     4.0       NaN    2.0     5.0       0.0\n",
       "149  15.0       U     4.0       NaN    5.0     5.0       0.0\n",
       "151  16.0       U     4.0       NaN    4.0     5.0       6.0\n",
       "160   NaN     NaN     NaN       NaN    NaN     NaN       NaN\n",
       "191   NaN     NaN     NaN       NaN    NaN     NaN       NaN\n",
       "257  19.0       U     4.0       NaN    1.0     1.0      12.0\n",
       "276   NaN     NaN     NaN       NaN    NaN     NaN       NaN\n",
       "293   NaN     NaN     NaN       NaN    NaN     NaN       NaN\n",
       "308  19.0       R     4.0       NaN    3.0     5.0       0.0\n",
       "330  18.0       U     4.0       NaN    5.0     5.0       2.0\n",
       "343  17.0       U     3.0       NaN    1.0     4.0       0.0\n",
       "359  18.0       U     5.0       NaN    2.0     4.0       0.0\n",
       "372  17.0       U     3.0       NaN    3.0     3.0       8.0\n",
       "385   NaN     NaN     NaN       NaN    NaN     NaN       NaN"
      ]
     },
     "execution_count": 114,
     "metadata": {},
     "output_type": "execute_result"
    }
   ],
   "source": [
    "#   e) Find all rows where the freetime is NaN.\n",
    "#\n",
    "#df_student.info()\n",
    "# All rows with nans\n",
    "#df_student[df_student.isna().any(axis=\"columns\")]\n",
    "\n",
    "# All rows where freetime is Nan\n",
    "df_student[df_student[\"freetime\"].isna() == True]\n",
    "\n"
   ]
  },
  {
   "cell_type": "code",
   "execution_count": 115,
   "metadata": {},
   "outputs": [
    {
     "data": {
      "text/html": [
       "<div>\n",
       "<style scoped>\n",
       "    .dataframe tbody tr th:only-of-type {\n",
       "        vertical-align: middle;\n",
       "    }\n",
       "\n",
       "    .dataframe tbody tr th {\n",
       "        vertical-align: top;\n",
       "    }\n",
       "\n",
       "    .dataframe thead th {\n",
       "        text-align: right;\n",
       "    }\n",
       "</style>\n",
       "<table border=\"1\" class=\"dataframe\">\n",
       "  <thead>\n",
       "    <tr style=\"text-align: right;\">\n",
       "      <th></th>\n",
       "      <th>age</th>\n",
       "      <th>address</th>\n",
       "      <th>famrel</th>\n",
       "      <th>freetime</th>\n",
       "      <th>goout</th>\n",
       "      <th>health</th>\n",
       "      <th>absences</th>\n",
       "    </tr>\n",
       "  </thead>\n",
       "  <tbody>\n",
       "    <tr>\n",
       "      <th>20</th>\n",
       "      <td>NaN</td>\n",
       "      <td>U</td>\n",
       "      <td>4.0</td>\n",
       "      <td>4.0</td>\n",
       "      <td>1.0</td>\n",
       "      <td>1.0</td>\n",
       "      <td>0.0</td>\n",
       "    </tr>\n",
       "    <tr>\n",
       "      <th>71</th>\n",
       "      <td>NaN</td>\n",
       "      <td>U</td>\n",
       "      <td>3.0</td>\n",
       "      <td>3.0</td>\n",
       "      <td>3.0</td>\n",
       "      <td>3.0</td>\n",
       "      <td>0.0</td>\n",
       "    </tr>\n",
       "    <tr>\n",
       "      <th>87</th>\n",
       "      <td>15.0</td>\n",
       "      <td>U</td>\n",
       "      <td>5.0</td>\n",
       "      <td>NaN</td>\n",
       "      <td>3.0</td>\n",
       "      <td>1.0</td>\n",
       "      <td>4.0</td>\n",
       "    </tr>\n",
       "    <tr>\n",
       "      <th>99</th>\n",
       "      <td>16.0</td>\n",
       "      <td>U</td>\n",
       "      <td>5.0</td>\n",
       "      <td>NaN</td>\n",
       "      <td>5.0</td>\n",
       "      <td>3.0</td>\n",
       "      <td>0.0</td>\n",
       "    </tr>\n",
       "    <tr>\n",
       "      <th>102</th>\n",
       "      <td>NaN</td>\n",
       "      <td>U</td>\n",
       "      <td>5.0</td>\n",
       "      <td>3.0</td>\n",
       "      <td>3.0</td>\n",
       "      <td>5.0</td>\n",
       "      <td>4.0</td>\n",
       "    </tr>\n",
       "    <tr>\n",
       "      <th>106</th>\n",
       "      <td>NaN</td>\n",
       "      <td>U</td>\n",
       "      <td>5.0</td>\n",
       "      <td>1.0</td>\n",
       "      <td>2.0</td>\n",
       "      <td>3.0</td>\n",
       "      <td>8.0</td>\n",
       "    </tr>\n",
       "    <tr>\n",
       "      <th>121</th>\n",
       "      <td>NaN</td>\n",
       "      <td>U</td>\n",
       "      <td>5.0</td>\n",
       "      <td>5.0</td>\n",
       "      <td>4.0</td>\n",
       "      <td>5.0</td>\n",
       "      <td>6.0</td>\n",
       "    </tr>\n",
       "    <tr>\n",
       "      <th>130</th>\n",
       "      <td>15.0</td>\n",
       "      <td>R</td>\n",
       "      <td>4.0</td>\n",
       "      <td>NaN</td>\n",
       "      <td>2.0</td>\n",
       "      <td>5.0</td>\n",
       "      <td>0.0</td>\n",
       "    </tr>\n",
       "    <tr>\n",
       "      <th>149</th>\n",
       "      <td>15.0</td>\n",
       "      <td>U</td>\n",
       "      <td>4.0</td>\n",
       "      <td>NaN</td>\n",
       "      <td>5.0</td>\n",
       "      <td>5.0</td>\n",
       "      <td>0.0</td>\n",
       "    </tr>\n",
       "    <tr>\n",
       "      <th>151</th>\n",
       "      <td>16.0</td>\n",
       "      <td>U</td>\n",
       "      <td>4.0</td>\n",
       "      <td>NaN</td>\n",
       "      <td>4.0</td>\n",
       "      <td>5.0</td>\n",
       "      <td>6.0</td>\n",
       "    </tr>\n",
       "    <tr>\n",
       "      <th>160</th>\n",
       "      <td>NaN</td>\n",
       "      <td>NaN</td>\n",
       "      <td>NaN</td>\n",
       "      <td>NaN</td>\n",
       "      <td>NaN</td>\n",
       "      <td>NaN</td>\n",
       "      <td>NaN</td>\n",
       "    </tr>\n",
       "    <tr>\n",
       "      <th>188</th>\n",
       "      <td>NaN</td>\n",
       "      <td>U</td>\n",
       "      <td>3.0</td>\n",
       "      <td>3.0</td>\n",
       "      <td>3.0</td>\n",
       "      <td>3.0</td>\n",
       "      <td>6.0</td>\n",
       "    </tr>\n",
       "    <tr>\n",
       "      <th>191</th>\n",
       "      <td>NaN</td>\n",
       "      <td>NaN</td>\n",
       "      <td>NaN</td>\n",
       "      <td>NaN</td>\n",
       "      <td>NaN</td>\n",
       "      <td>NaN</td>\n",
       "      <td>NaN</td>\n",
       "    </tr>\n",
       "    <tr>\n",
       "      <th>214</th>\n",
       "      <td>NaN</td>\n",
       "      <td>R</td>\n",
       "      <td>5.0</td>\n",
       "      <td>2.0</td>\n",
       "      <td>1.0</td>\n",
       "      <td>3.0</td>\n",
       "      <td>12.0</td>\n",
       "    </tr>\n",
       "    <tr>\n",
       "      <th>257</th>\n",
       "      <td>19.0</td>\n",
       "      <td>U</td>\n",
       "      <td>4.0</td>\n",
       "      <td>NaN</td>\n",
       "      <td>1.0</td>\n",
       "      <td>1.0</td>\n",
       "      <td>12.0</td>\n",
       "    </tr>\n",
       "    <tr>\n",
       "      <th>270</th>\n",
       "      <td>NaN</td>\n",
       "      <td>U</td>\n",
       "      <td>4.0</td>\n",
       "      <td>3.0</td>\n",
       "      <td>5.0</td>\n",
       "      <td>5.0</td>\n",
       "      <td>15.0</td>\n",
       "    </tr>\n",
       "    <tr>\n",
       "      <th>276</th>\n",
       "      <td>NaN</td>\n",
       "      <td>NaN</td>\n",
       "      <td>NaN</td>\n",
       "      <td>NaN</td>\n",
       "      <td>NaN</td>\n",
       "      <td>NaN</td>\n",
       "      <td>NaN</td>\n",
       "    </tr>\n",
       "    <tr>\n",
       "      <th>293</th>\n",
       "      <td>NaN</td>\n",
       "      <td>NaN</td>\n",
       "      <td>NaN</td>\n",
       "      <td>NaN</td>\n",
       "      <td>NaN</td>\n",
       "      <td>NaN</td>\n",
       "      <td>NaN</td>\n",
       "    </tr>\n",
       "    <tr>\n",
       "      <th>308</th>\n",
       "      <td>19.0</td>\n",
       "      <td>R</td>\n",
       "      <td>4.0</td>\n",
       "      <td>NaN</td>\n",
       "      <td>3.0</td>\n",
       "      <td>5.0</td>\n",
       "      <td>0.0</td>\n",
       "    </tr>\n",
       "    <tr>\n",
       "      <th>330</th>\n",
       "      <td>18.0</td>\n",
       "      <td>U</td>\n",
       "      <td>4.0</td>\n",
       "      <td>NaN</td>\n",
       "      <td>5.0</td>\n",
       "      <td>5.0</td>\n",
       "      <td>2.0</td>\n",
       "    </tr>\n",
       "    <tr>\n",
       "      <th>343</th>\n",
       "      <td>17.0</td>\n",
       "      <td>U</td>\n",
       "      <td>3.0</td>\n",
       "      <td>NaN</td>\n",
       "      <td>1.0</td>\n",
       "      <td>4.0</td>\n",
       "      <td>0.0</td>\n",
       "    </tr>\n",
       "    <tr>\n",
       "      <th>348</th>\n",
       "      <td>NaN</td>\n",
       "      <td>U</td>\n",
       "      <td>4.0</td>\n",
       "      <td>4.0</td>\n",
       "      <td>3.0</td>\n",
       "      <td>4.0</td>\n",
       "      <td>0.0</td>\n",
       "    </tr>\n",
       "    <tr>\n",
       "      <th>359</th>\n",
       "      <td>18.0</td>\n",
       "      <td>U</td>\n",
       "      <td>5.0</td>\n",
       "      <td>NaN</td>\n",
       "      <td>2.0</td>\n",
       "      <td>4.0</td>\n",
       "      <td>0.0</td>\n",
       "    </tr>\n",
       "    <tr>\n",
       "      <th>372</th>\n",
       "      <td>17.0</td>\n",
       "      <td>U</td>\n",
       "      <td>3.0</td>\n",
       "      <td>NaN</td>\n",
       "      <td>3.0</td>\n",
       "      <td>3.0</td>\n",
       "      <td>8.0</td>\n",
       "    </tr>\n",
       "    <tr>\n",
       "      <th>385</th>\n",
       "      <td>NaN</td>\n",
       "      <td>NaN</td>\n",
       "      <td>NaN</td>\n",
       "      <td>NaN</td>\n",
       "      <td>NaN</td>\n",
       "      <td>NaN</td>\n",
       "      <td>NaN</td>\n",
       "    </tr>\n",
       "  </tbody>\n",
       "</table>\n",
       "</div>"
      ],
      "text/plain": [
       "      age address  famrel  freetime  goout  health  absences\n",
       "20    NaN       U     4.0       4.0    1.0     1.0       0.0\n",
       "71    NaN       U     3.0       3.0    3.0     3.0       0.0\n",
       "87   15.0       U     5.0       NaN    3.0     1.0       4.0\n",
       "99   16.0       U     5.0       NaN    5.0     3.0       0.0\n",
       "102   NaN       U     5.0       3.0    3.0     5.0       4.0\n",
       "106   NaN       U     5.0       1.0    2.0     3.0       8.0\n",
       "121   NaN       U     5.0       5.0    4.0     5.0       6.0\n",
       "130  15.0       R     4.0       NaN    2.0     5.0       0.0\n",
       "149  15.0       U     4.0       NaN    5.0     5.0       0.0\n",
       "151  16.0       U     4.0       NaN    4.0     5.0       6.0\n",
       "160   NaN     NaN     NaN       NaN    NaN     NaN       NaN\n",
       "188   NaN       U     3.0       3.0    3.0     3.0       6.0\n",
       "191   NaN     NaN     NaN       NaN    NaN     NaN       NaN\n",
       "214   NaN       R     5.0       2.0    1.0     3.0      12.0\n",
       "257  19.0       U     4.0       NaN    1.0     1.0      12.0\n",
       "270   NaN       U     4.0       3.0    5.0     5.0      15.0\n",
       "276   NaN     NaN     NaN       NaN    NaN     NaN       NaN\n",
       "293   NaN     NaN     NaN       NaN    NaN     NaN       NaN\n",
       "308  19.0       R     4.0       NaN    3.0     5.0       0.0\n",
       "330  18.0       U     4.0       NaN    5.0     5.0       2.0\n",
       "343  17.0       U     3.0       NaN    1.0     4.0       0.0\n",
       "348   NaN       U     4.0       4.0    3.0     4.0       0.0\n",
       "359  18.0       U     5.0       NaN    2.0     4.0       0.0\n",
       "372  17.0       U     3.0       NaN    3.0     3.0       8.0\n",
       "385   NaN     NaN     NaN       NaN    NaN     NaN       NaN"
      ]
     },
     "execution_count": 115,
     "metadata": {},
     "output_type": "execute_result"
    }
   ],
   "source": [
    "\n",
    "#  f) Find all rows where the freetime or the age is NaN.\n",
    "df_student[df_student[\"freetime\"].isna() | df_student[\"age\"].isna()]\n"
   ]
  },
  {
   "cell_type": "code",
   "execution_count": 116,
   "metadata": {},
   "outputs": [
    {
     "name": "stdout",
     "output_type": "stream",
     "text": [
      "         Column names  Number of NaNs\n",
      "age               age              14\n",
      "address       address               5\n",
      "famrel         famrel               5\n",
      "freetime     freetime              16\n",
      "goout           goout               5\n",
      "health         health               5\n",
      "absences     absences               5\n",
      "\n",
      "Proportions of NaNs in total student data set: 1.99%\n",
      "Proportions of NaNs per columns in student data set (%):\n",
      "age         3.544304\n",
      "address     1.265823\n",
      "famrel      1.265823\n",
      "freetime    4.050633\n",
      "goout       1.265823\n",
      "health      1.265823\n",
      "absences    1.265823\n",
      "Name: Number of NaNs, dtype: float64\n"
     ]
    }
   ],
   "source": [
    "\n",
    "#  g) You will notice that some rows have several NaNs. Now compute the proportion that these rows constitute of the whole dataset.\n",
    "\n",
    "# summer antal nans per row\n",
    "\n",
    "#numbernans = df_student[df_student[\"freetime\"].isna() | df_student[\"age\"].isna()].isna().sum()\n",
    "\n",
    "totalnans = Nnans.sum()[1]\n",
    "\n",
    "print(Nnans)\n",
    "print(\"\")\n",
    "\n",
    "\n",
    "#df_student.info()\n",
    "# gives 395 rows, 7 columns, same as sze of dataset\n",
    "Ndata = df_student.size\n",
    "\n",
    "\n",
    "nanproportions = totalnans/Ndata\n",
    "print(f\"Proportions of NaNs in total student data set: {nanproportions * 100:.2f}%\")\n",
    "print(f\"Proportions of NaNs per columns in student data set (%):\\n{Nnans['Number of NaNs']/395 * 100}\")\n",
    "\n",
    "\n"
   ]
  },
  {
   "cell_type": "code",
   "execution_count": 117,
   "metadata": {},
   "outputs": [
    {
     "name": "stdout",
     "output_type": "stream",
     "text": [
      "Proportions of NaN in thes two columns: (age and freetime): 1.08%\n",
      "Alternative proportions of NaN of these two columns: (age and freetime vs 2*length of columns (395)): 3.80%\n"
     ]
    },
    {
     "data": {
      "image/png": "[encoded data removed]",
      "text/plain": [
       "<Figure size 432x288 with 1 Axes>"
      ]
     },
     "metadata": {
      "needs_background": "light"
     },
     "output_type": "display_data"
    }
   ],
   "source": [
    "# In these two columns though\n",
    "#print(f\"Proportion of NaN in thes two columns: (age and freetime) {Nnans}\")\n",
    "\n",
    "print(f\"Proportions of NaN in thes two columns: (age and freetime): {(Nnans['Number of NaNs'].loc['age'] + Nnans['Number of NaNs'].loc['freetime'])/Ndata*100:.2f}%\")\n",
    "print(f\"Alternative proportions of NaN of these two columns: (age and freetime vs 2*length of columns (395)): {(Nnans['Number of NaNs'].loc['age'] + Nnans['Number of NaNs'].loc['freetime'])/(2*395)*100:.2f}%\")\n",
    "# plot\n",
    "\n",
    "sns.barplot(data=Nnans.loc[[\"age\",\"freetime\"]], x=\"Column names\", y=\"Number of NaNs\");\n"
   ]
  },
  {
   "cell_type": "markdown",
   "metadata": {},
   "source": [
    "# 2. Clean the data (*)"
   ]
  },
  {
   "cell_type": "code",
   "execution_count": 118,
   "metadata": {},
   "outputs": [
    {
     "data": {
      "text/plain": [
       "<AxesSubplot:xlabel='age', ylabel='Count'>"
      ]
     },
     "execution_count": 118,
     "metadata": {},
     "output_type": "execute_result"
    },
    {
     "data": {
      "image/png": "[encoded data removed]",
      "text/plain": [
       "<Figure size 432x288 with 1 Axes>"
      ]
     },
     "metadata": {
      "needs_background": "light"
     },
     "output_type": "display_data"
    }
   ],
   "source": [
    "import seaborn as sns\n",
    "import data_utils as du\n",
    "\n",
    "# a) As you have conversed with a domain expert you both agree that there are too many missing\n",
    "#  data to fill in and the proportion is small enough to be safe to just remove. Now remove these\n",
    "#  rows and use your missing-value utility function visualize the remaining NaNs.\n",
    "\n",
    "df_studentdata = df_student[[\"age\",\"freetime\"]]\n",
    "\n",
    "# b) The domain expert has told you that you have to fill in the missing age values. Start with \n",
    "# visualising the age distribution in the dataset using a histogram.\n",
    "\n",
    "sns.histplot(data=df_studentdata, x=\"age\", bins=20)\n",
    "\n"
   ]
  },
  {
   "cell_type": "code",
   "execution_count": 119,
   "metadata": {},
   "outputs": [
    {
     "name": "stdout",
     "output_type": "stream",
     "text": [
      "Index(['Unnamed: 0', 'school', 'sex', 'age', 'address', 'famsize', 'Pstatus',\n",
      "       'Medu', 'Fedu', 'Mjob', 'Fjob', 'reason', 'guardian', 'traveltime',\n",
      "       'studytime', 'failures', 'schoolsup', 'famsup', 'paid', 'activities',\n",
      "       'nursery', 'higher', 'internet', 'romantic', 'famrel', 'freetime',\n",
      "       'goout', 'Dalc', 'Walc', 'health', 'absences', 'G1', 'G2', 'G3'],\n",
      "      dtype='object')\n"
     ]
    },
    {
     "data": {
      "text/plain": [
       "<AxesSubplot:xlabel='higher', ylabel='Count'>"
      ]
     },
     "execution_count": 119,
     "metadata": {},
     "output_type": "execute_result"
    },
    {
     "data": {
      "image/png": "[encoded data removed]",
      "text/plain": [
       "<Figure size 432x288 with 1 Axes>"
      ]
     },
     "metadata": {
      "needs_background": "light"
     },
     "output_type": "display_data"
    }
   ],
   "source": [
    "print(df_student_rawdata.columns)\n",
    "\n",
    "sns.histplot(data=df_student_rawdata, x=\"higher\")\n"
   ]
  },
  {
   "cell_type": "code",
   "execution_count": 120,
   "metadata": {},
   "outputs": [
    {
     "data": {
      "text/plain": [
       "<AxesSubplot:xlabel='age', ylabel='Count'>"
      ]
     },
     "execution_count": 120,
     "metadata": {},
     "output_type": "execute_result"
    },
    {
     "data": {
      "image/png": "[encoded data removed]",
      "text/plain": [
       "<Figure size 864x216 with 3 Axes>"
      ]
     },
     "metadata": {
      "needs_background": "light"
     },
     "output_type": "display_data"
    }
   ],
   "source": [
    "import matplotlib.pyplot as plt\n",
    "\n",
    "fig,(ax1,ax2,ax3) = plt.subplots(1,3, figsize=(12,3))\n",
    "\n",
    "sns.histplot(data=df_studentdata, x=\"age\", bins=20, ax=ax1)\n",
    "sns.histplot(data=df_student_rawdata[df_student_rawdata[\"higher\"] == \"yes\"], x=\"age\", bins=20, ax=ax2)\n",
    "sns.histplot(data=df_student_rawdata[df_student_rawdata[\"higher\"] == \"no\"], x=\"age\", bins=20, ax=ax3)\n"
   ]
  },
  {
   "cell_type": "code",
   "execution_count": 121,
   "metadata": {},
   "outputs": [
    {
     "name": "stderr",
     "output_type": "stream",
     "text": [
      "/tmp/ipykernel_21133/4068333108.py:8: SettingWithCopyWarning: \n",
      "A value is trying to be set on a copy of a slice from a DataFrame.\n",
      "Try using .loc[row_indexer,col_indexer] = value instead\n",
      "\n",
      "See the caveats in the documentation: https://pandas.pydata.org/pandas-docs/stable/user_guide/indexing.html#returning-a-view-versus-a-copy\n",
      "  df_studentdata[\"alcohol\"] = df_student_rawdata.loc[:,\"Dalc\"] + df_student_rawdata.loc[:,\"Walc\"]\n"
     ]
    },
    {
     "name": "stdout",
     "output_type": "stream",
     "text": [
      "      age  freetime  alcohol\n",
      "0    18.0       3.0        2\n",
      "1    17.0       3.0        2\n",
      "2    15.0       3.0        5\n",
      "3    15.0       2.0        2\n",
      "4    16.0       3.0        3\n",
      "..    ...       ...      ...\n",
      "390  20.0       5.0        9\n",
      "391  17.0       4.0        7\n",
      "392  21.0       5.0        6\n",
      "393  18.0       4.0        7\n",
      "394  19.0       2.0        6\n",
      "\n",
      "[395 rows x 3 columns]\n"
     ]
    },
    {
     "data": {
      "image/png": "[encoded data removed]",
      "text/plain": [
       "<Figure size 432x288 with 1 Axes>"
      ]
     },
     "metadata": {
      "needs_background": "light"
     },
     "output_type": "display_data"
    }
   ],
   "source": [
    "# f) That was hard to find a connection. When reading dataset source we find alcohol consumption, maybe there is some connection between age and alcohol consumption.\n",
    "#Dalc - workday alcohol consumption (numeric: from 1 - very low to 5 - very high)\n",
    "#Walc - weekend alcohol consumption (numeric: from 1 - very low to 5 - very high)\n",
    "#  Start with creating a new column called Alcohol, which is a sum of Dalc and Walc columns\n",
    "\n",
    "#df_studentdata[\"alcohol\"] = df_student_rawdata[\"Dalc\"] + df_student_rawdata[\"Walc\"]\n",
    "\n",
    "df_studentdata[\"alcohol\"] = df_student_rawdata.loc[:,\"Dalc\"] + df_student_rawdata.loc[:,\"Walc\"]\n",
    "\n",
    "#g) Make a barchart for alcohol consumption vs age.\n",
    "\n",
    "sns.barplot(data=df_studentdata, x=\"age\", y=\"alcohol\")\n",
    "print(df_studentdata)"
   ]
  },
  {
   "cell_type": "code",
   "execution_count": 122,
   "metadata": {},
   "outputs": [
    {
     "data": {
      "text/plain": [
       "<AxesSubplot:xlabel='age', ylabel='Count'>"
      ]
     },
     "execution_count": 122,
     "metadata": {},
     "output_type": "execute_result"
    },
    {
     "data": {
      "image/png": "[encoded data removed]",
      "text/plain": [
       "<Figure size 864x216 with 3 Axes>"
      ]
     },
     "metadata": {
      "needs_background": "light"
     },
     "output_type": "display_data"
    }
   ],
   "source": [
    "#  h) We see that older students tend to drink more, but notice how few 20-22 year-old students we\n",
    "#  have in the dataset. We can definitely exclude them when computing the missing values. However\n",
    "#  there are also few 19 year-old students in the dataset, say for simplicity that we can exclude\n",
    "#  them as well. This leaves:\n",
    "#\n",
    "#alcohol level >= 4 -> 16, 17 or 18 years old -> take median to simplify\n",
    "#alcohol level < 4 -> 15 years old\n",
    "#Fill these in and visualize missing values.\n",
    "#\n",
    "#  Note: could make more stringent by computing percentages based on the distribution\n",
    "\n",
    "# Make a copy of studentdata with age, freetime and alcohol, that we do changes in\n",
    "df_studentdatamod = df_studentdata.copy()\n",
    "\n",
    "# Change all where alcohol <4 to age 15.\n",
    "df_studentdatamod[(df_studentdatamod[\"alcohol\"] < 4) & (df_studentdatamod[\"age\"].isna() == True)] = 15\n",
    "\n",
    "fig,(ax1,ax2,ax3) = plt.subplots(1,3, figsize=(12,3))\n",
    "sns.histplot(data=df_studentdata, x=\"age\", bins=20, ax=ax1)\n",
    "sns.histplot(data=df_studentdatamod, x=\"age\", bins=20, ax=ax2)\n",
    "\n",
    "# Change all where alcohol is >= 4 to median of age\n",
    "medianage = df_studentdata[\n",
    "    (df_studentdata[\"alcohol\"] >= 4) & \n",
    "    (df_studentdata[\"age\"].isna() == False)][\"age\"].median()\n",
    "df_studentdatamod[(df_studentdatamod[\"alcohol\"] >= 4) & (df_studentdatamod[\"age\"].isna() == True)] = medianage\n",
    "\n",
    "sns.histplot(data=df_studentdatamod, x=\"age\", bins=20, ax=ax3)\n",
    "\n"
   ]
  },
  {
   "cell_type": "markdown",
   "metadata": {},
   "source": [
    "# 3. Clean freetime column (**)\n",
    "\n",
    "Now there are missing data on freetime that needs to be filled.\n",
    "\n",
    "- Try yourself and find reasonable approaches for how you would fill those missing data.\n",
    "- Document what you have tried and different findings\n",
    "- Combine suitable visualizations with pandas methods"
   ]
  },
  {
   "cell_type": "code",
   "execution_count": 142,
   "metadata": {},
   "outputs": [
    {
     "name": "stdout",
     "output_type": "stream",
     "text": [
      "unique values in freetime: [ 3.  2.  4.  1.  5. nan]\n",
      "Number of NaNs in freetime: 16\n"
     ]
    },
    {
     "data": {
      "image/png": "[encoded data removed]",
      "text/plain": [
       "<Figure size 432x288 with 1 Axes>"
      ]
     },
     "metadata": {
      "needs_background": "light"
     },
     "output_type": "display_data"
    }
   ],
   "source": [
    "sns.histplot(data=df_studentdata, x=\"freetime\")\n",
    "print(f\"unique values in freetime: {df_studentdata['freetime'].unique()}\")\n",
    "print(f\"Number of NaNs in freetime: {df_studentdata[df_studentdata['freetime'].isna() == True]['freetime'].size}\")\n",
    "\n",
    "# TODO hitta ett sätt att byta ut freetime, kanske ålder kan bestämma hur mycket freetime de har\n",
    "# 25 freetime - free time after school (numeric: from 1 - very low to 5 - very high)\n"
   ]
  },
  {
   "cell_type": "code",
   "execution_count": 141,
   "metadata": {},
   "outputs": [
    {
     "data": {
      "text/plain": [
       "16"
      ]
     },
     "execution_count": 141,
     "metadata": {},
     "output_type": "execute_result"
    }
   ],
   "source": [
    "df_studentdata[df_studentdata['freetime'].isna() == True]['freetime'].size"
   ]
  },
  {
   "cell_type": "code",
   "execution_count": null,
   "metadata": {},
   "outputs": [],
   "source": []
  }
 ],
 "metadata": {
  "interpreter": {
   "hash": "c0552d8ae2bf90ff01336472fa628af8a30caa12cfa3faa676995d0ab64866b9"
  },
  "kernelspec": {
   "display_name": "Python 3.8.10 64-bit ('databehandling-joachim-wiegert-Okb5rNS4': pipenv)",
   "name": "python3"
  },
  "language_info": {
   "codemirror_mode": {
    "name": "ipython",
    "version": 3
   },
   "file_extension": ".py",
   "mimetype": "text/x-python",
   "name": "python",
   "nbconvert_exporter": "python",
   "pygments_lexer": "ipython3",
   "version": "3.8.10"
  },
  "orig_nbformat": 4
 },
 "nbformat": 4,
 "nbformat_minor": 2
}
