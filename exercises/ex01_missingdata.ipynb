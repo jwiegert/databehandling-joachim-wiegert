{
 "cells": [
  {
   "cell_type": "markdown",
   "metadata": {},
   "source": [
    "# 1. Find missing values (*)\n",
    "\n",
    "  a) Read in the file \"student-mat-missing-data.csv\" into a Pandas DataFrame\n",
    "\n",
    "  b) Do some initial explorations with the methods to get an understanding of the dataset:\n",
    "\n",
    "> head(), info(), describe(), value_counts(), unique(), columns()\n",
    "\n",
    "  c) Create a function that takes in a DataFrame as input parameter and plots a barplot with the columns that have missing values. Put this function into a file called data_utils.py. When you come across more useful functions, you can store them in your data_utils module.\n",
    "\n",
    "  d) Now import your function from the module data_utils and use it to visualize NaNs in your dataset.\n",
    "\n",
    "  e) Find all rows where the freetime is NaN.\n",
    "\n",
    "  f) Find all rows where the freetime or the age is NaN.\n",
    "\n",
    "  g) You will notice that some rows have several NaNs. Now compute the proportion that these rows constitute of the whole dataset."
   ]
  },
  {
   "cell_type": "code",
   "execution_count": 2,
   "metadata": {},
   "outputs": [
    {
     "data": {
      "image/png": "[encoded data removed]",
      "text/plain": [
       "<Figure size 432x288 with 1 Axes>"
      ]
     },
     "metadata": {
      "needs_background": "light"
     },
     "output_type": "display_data"
    }
   ],
   "source": [
    "import pandas as pd\n",
    "import seaborn as sns\n",
    "import plotly_express as px\n",
    "import data_utils as du\n",
    "\n",
    "#a) Read in the file \"student-mat-missing-data.csv\" into a Pandas DataFrame\n",
    "\n",
    "\n",
    "df_student_rawdata = pd.read_csv('../data/student-mat-missing-data.csv')\n",
    "\n",
    "#  b) Do some initial explorations with the methods to get an understanding of the dataset:\n",
    "\n",
    "\n",
    "# columnes:\n",
    "# ['Unnamed: 0', 'school', 'sex', 'age', 'address', 'famsize', 'Pstatus',\n",
    "#       'Medu', 'Fedu', 'Mjob', 'Fjob', 'reason', 'guardian', 'traveltime',\n",
    "#       'studytime', 'failures', 'schoolsup', 'famsup', 'paid', 'activities',\n",
    "#       'nursery', 'higher', 'internet', 'romantic', 'famrel', 'freetime',\n",
    "#       'goout', 'Dalc', 'Walc', 'health', 'absences', 'G1', 'G2', 'G3']\n",
    "\n",
    "#df_student_rawdata[\"famsup\"].unique()\n",
    "#df_student_rawdata.describe()\n",
    "# drop \"Unnamed: 0\", just indeces\n",
    "\n",
    "# c) Create a function that takes in a DataFrame as input parameter and plots a barplot\n",
    "#  with the columns that have missing values. Put this function into a file called\n",
    "#  data_utils.py. When you come across more useful functions, you can store them in your\n",
    "#  data_utils module.\n",
    "\n",
    "df_student, Nnans = du.extract_nan_columns(df_student_rawdata)\n"
   ]
  },
  {
   "cell_type": "code",
   "execution_count": 3,
   "metadata": {},
   "outputs": [
    {
     "data": {
      "text/html": [
       "<div>\n",
       "<style scoped>\n",
       "    .dataframe tbody tr th:only-of-type {\n",
       "        vertical-align: middle;\n",
       "    }\n",
       "\n",
       "    .dataframe tbody tr th {\n",
       "        vertical-align: top;\n",
       "    }\n",
       "\n",
       "    .dataframe thead th {\n",
       "        text-align: right;\n",
       "    }\n",
       "</style>\n",
       "<table border=\"1\" class=\"dataframe\">\n",
       "  <thead>\n",
       "    <tr style=\"text-align: right;\">\n",
       "      <th></th>\n",
       "      <th>age</th>\n",
       "      <th>address</th>\n",
       "      <th>famrel</th>\n",
       "      <th>freetime</th>\n",
       "      <th>goout</th>\n",
       "      <th>health</th>\n",
       "      <th>absences</th>\n",
       "    </tr>\n",
       "  </thead>\n",
       "  <tbody>\n",
       "    <tr>\n",
       "      <th>87</th>\n",
       "      <td>15.0</td>\n",
       "      <td>U</td>\n",
       "      <td>5.0</td>\n",
       "      <td>NaN</td>\n",
       "      <td>3.0</td>\n",
       "      <td>1.0</td>\n",
       "      <td>4.0</td>\n",
       "    </tr>\n",
       "    <tr>\n",
       "      <th>99</th>\n",
       "      <td>16.0</td>\n",
       "      <td>U</td>\n",
       "      <td>5.0</td>\n",
       "      <td>NaN</td>\n",
       "      <td>5.0</td>\n",
       "      <td>3.0</td>\n",
       "      <td>0.0</td>\n",
       "    </tr>\n",
       "    <tr>\n",
       "      <th>130</th>\n",
       "      <td>15.0</td>\n",
       "      <td>R</td>\n",
       "      <td>4.0</td>\n",
       "      <td>NaN</td>\n",
       "      <td>2.0</td>\n",
       "      <td>5.0</td>\n",
       "      <td>0.0</td>\n",
       "    </tr>\n",
       "    <tr>\n",
       "      <th>149</th>\n",
       "      <td>15.0</td>\n",
       "      <td>U</td>\n",
       "      <td>4.0</td>\n",
       "      <td>NaN</td>\n",
       "      <td>5.0</td>\n",
       "      <td>5.0</td>\n",
       "      <td>0.0</td>\n",
       "    </tr>\n",
       "    <tr>\n",
       "      <th>151</th>\n",
       "      <td>16.0</td>\n",
       "      <td>U</td>\n",
       "      <td>4.0</td>\n",
       "      <td>NaN</td>\n",
       "      <td>4.0</td>\n",
       "      <td>5.0</td>\n",
       "      <td>6.0</td>\n",
       "    </tr>\n",
       "    <tr>\n",
       "      <th>160</th>\n",
       "      <td>NaN</td>\n",
       "      <td>NaN</td>\n",
       "      <td>NaN</td>\n",
       "      <td>NaN</td>\n",
       "      <td>NaN</td>\n",
       "      <td>NaN</td>\n",
       "      <td>NaN</td>\n",
       "    </tr>\n",
       "    <tr>\n",
       "      <th>191</th>\n",
       "      <td>NaN</td>\n",
       "      <td>NaN</td>\n",
       "      <td>NaN</td>\n",
       "      <td>NaN</td>\n",
       "      <td>NaN</td>\n",
       "      <td>NaN</td>\n",
       "      <td>NaN</td>\n",
       "    </tr>\n",
       "    <tr>\n",
       "      <th>257</th>\n",
       "      <td>19.0</td>\n",
       "      <td>U</td>\n",
       "      <td>4.0</td>\n",
       "      <td>NaN</td>\n",
       "      <td>1.0</td>\n",
       "      <td>1.0</td>\n",
       "      <td>12.0</td>\n",
       "    </tr>\n",
       "    <tr>\n",
       "      <th>276</th>\n",
       "      <td>NaN</td>\n",
       "      <td>NaN</td>\n",
       "      <td>NaN</td>\n",
       "      <td>NaN</td>\n",
       "      <td>NaN</td>\n",
       "      <td>NaN</td>\n",
       "      <td>NaN</td>\n",
       "    </tr>\n",
       "    <tr>\n",
       "      <th>293</th>\n",
       "      <td>NaN</td>\n",
       "      <td>NaN</td>\n",
       "      <td>NaN</td>\n",
       "      <td>NaN</td>\n",
       "      <td>NaN</td>\n",
       "      <td>NaN</td>\n",
       "      <td>NaN</td>\n",
       "    </tr>\n",
       "    <tr>\n",
       "      <th>308</th>\n",
       "      <td>19.0</td>\n",
       "      <td>R</td>\n",
       "      <td>4.0</td>\n",
       "      <td>NaN</td>\n",
       "      <td>3.0</td>\n",
       "      <td>5.0</td>\n",
       "      <td>0.0</td>\n",
       "    </tr>\n",
       "    <tr>\n",
       "      <th>330</th>\n",
       "      <td>18.0</td>\n",
       "      <td>U</td>\n",
       "      <td>4.0</td>\n",
       "      <td>NaN</td>\n",
       "      <td>5.0</td>\n",
       "      <td>5.0</td>\n",
       "      <td>2.0</td>\n",
       "    </tr>\n",
       "    <tr>\n",
       "      <th>343</th>\n",
       "      <td>17.0</td>\n",
       "      <td>U</td>\n",
       "      <td>3.0</td>\n",
       "      <td>NaN</td>\n",
       "      <td>1.0</td>\n",
       "      <td>4.0</td>\n",
       "      <td>0.0</td>\n",
       "    </tr>\n",
       "    <tr>\n",
       "      <th>359</th>\n",
       "      <td>18.0</td>\n",
       "      <td>U</td>\n",
       "      <td>5.0</td>\n",
       "      <td>NaN</td>\n",
       "      <td>2.0</td>\n",
       "      <td>4.0</td>\n",
       "      <td>0.0</td>\n",
       "    </tr>\n",
       "    <tr>\n",
       "      <th>372</th>\n",
       "      <td>17.0</td>\n",
       "      <td>U</td>\n",
       "      <td>3.0</td>\n",
       "      <td>NaN</td>\n",
       "      <td>3.0</td>\n",
       "      <td>3.0</td>\n",
       "      <td>8.0</td>\n",
       "    </tr>\n",
       "    <tr>\n",
       "      <th>385</th>\n",
       "      <td>NaN</td>\n",
       "      <td>NaN</td>\n",
       "      <td>NaN</td>\n",
       "      <td>NaN</td>\n",
       "      <td>NaN</td>\n",
       "      <td>NaN</td>\n",
       "      <td>NaN</td>\n",
       "    </tr>\n",
       "  </tbody>\n",
       "</table>\n",
       "</div>"
      ],
      "text/plain": [
       "      age address  famrel  freetime  goout  health  absences\n",
       "87   15.0       U     5.0       NaN    3.0     1.0       4.0\n",
       "99   16.0       U     5.0       NaN    5.0     3.0       0.0\n",
       "130  15.0       R     4.0       NaN    2.0     5.0       0.0\n",
       "149  15.0       U     4.0       NaN    5.0     5.0       0.0\n",
       "151  16.0       U     4.0       NaN    4.0     5.0       6.0\n",
       "160   NaN     NaN     NaN       NaN    NaN     NaN       NaN\n",
       "191   NaN     NaN     NaN       NaN    NaN     NaN       NaN\n",
       "257  19.0       U     4.0       NaN    1.0     1.0      12.0\n",
       "276   NaN     NaN     NaN       NaN    NaN     NaN       NaN\n",
       "293   NaN     NaN     NaN       NaN    NaN     NaN       NaN\n",
       "308  19.0       R     4.0       NaN    3.0     5.0       0.0\n",
       "330  18.0       U     4.0       NaN    5.0     5.0       2.0\n",
       "343  17.0       U     3.0       NaN    1.0     4.0       0.0\n",
       "359  18.0       U     5.0       NaN    2.0     4.0       0.0\n",
       "372  17.0       U     3.0       NaN    3.0     3.0       8.0\n",
       "385   NaN     NaN     NaN       NaN    NaN     NaN       NaN"
      ]
     },
     "execution_count": 3,
     "metadata": {},
     "output_type": "execute_result"
    }
   ],
   "source": [
    "#   e) Find all rows where the freetime is NaN.\n",
    "#\n",
    "#df_student.info()\n",
    "# All rows with nans\n",
    "#df_student[df_student.isna().any(axis=\"columns\")]\n",
    "\n",
    "# All rows where freetime is Nan\n",
    "df_student[df_student[\"freetime\"].isna() == True]\n",
    "\n"
   ]
  },
  {
   "cell_type": "code",
   "execution_count": 4,
   "metadata": {},
   "outputs": [
    {
     "data": {
      "text/html": [
       "<div>\n",
       "<style scoped>\n",
       "    .dataframe tbody tr th:only-of-type {\n",
       "        vertical-align: middle;\n",
       "    }\n",
       "\n",
       "    .dataframe tbody tr th {\n",
       "        vertical-align: top;\n",
       "    }\n",
       "\n",
       "    .dataframe thead th {\n",
       "        text-align: right;\n",
       "    }\n",
       "</style>\n",
       "<table border=\"1\" class=\"dataframe\">\n",
       "  <thead>\n",
       "    <tr style=\"text-align: right;\">\n",
       "      <th></th>\n",
       "      <th>age</th>\n",
       "      <th>address</th>\n",
       "      <th>famrel</th>\n",
       "      <th>freetime</th>\n",
       "      <th>goout</th>\n",
       "      <th>health</th>\n",
       "      <th>absences</th>\n",
       "    </tr>\n",
       "  </thead>\n",
       "  <tbody>\n",
       "    <tr>\n",
       "      <th>20</th>\n",
       "      <td>NaN</td>\n",
       "      <td>U</td>\n",
       "      <td>4.0</td>\n",
       "      <td>4.0</td>\n",
       "      <td>1.0</td>\n",
       "      <td>1.0</td>\n",
       "      <td>0.0</td>\n",
       "    </tr>\n",
       "    <tr>\n",
       "      <th>71</th>\n",
       "      <td>NaN</td>\n",
       "      <td>U</td>\n",
       "      <td>3.0</td>\n",
       "      <td>3.0</td>\n",
       "      <td>3.0</td>\n",
       "      <td>3.0</td>\n",
       "      <td>0.0</td>\n",
       "    </tr>\n",
       "    <tr>\n",
       "      <th>87</th>\n",
       "      <td>15.0</td>\n",
       "      <td>U</td>\n",
       "      <td>5.0</td>\n",
       "      <td>NaN</td>\n",
       "      <td>3.0</td>\n",
       "      <td>1.0</td>\n",
       "      <td>4.0</td>\n",
       "    </tr>\n",
       "    <tr>\n",
       "      <th>99</th>\n",
       "      <td>16.0</td>\n",
       "      <td>U</td>\n",
       "      <td>5.0</td>\n",
       "      <td>NaN</td>\n",
       "      <td>5.0</td>\n",
       "      <td>3.0</td>\n",
       "      <td>0.0</td>\n",
       "    </tr>\n",
       "    <tr>\n",
       "      <th>102</th>\n",
       "      <td>NaN</td>\n",
       "      <td>U</td>\n",
       "      <td>5.0</td>\n",
       "      <td>3.0</td>\n",
       "      <td>3.0</td>\n",
       "      <td>5.0</td>\n",
       "      <td>4.0</td>\n",
       "    </tr>\n",
       "    <tr>\n",
       "      <th>106</th>\n",
       "      <td>NaN</td>\n",
       "      <td>U</td>\n",
       "      <td>5.0</td>\n",
       "      <td>1.0</td>\n",
       "      <td>2.0</td>\n",
       "      <td>3.0</td>\n",
       "      <td>8.0</td>\n",
       "    </tr>\n",
       "    <tr>\n",
       "      <th>121</th>\n",
       "      <td>NaN</td>\n",
       "      <td>U</td>\n",
       "      <td>5.0</td>\n",
       "      <td>5.0</td>\n",
       "      <td>4.0</td>\n",
       "      <td>5.0</td>\n",
       "      <td>6.0</td>\n",
       "    </tr>\n",
       "    <tr>\n",
       "      <th>130</th>\n",
       "      <td>15.0</td>\n",
       "      <td>R</td>\n",
       "      <td>4.0</td>\n",
       "      <td>NaN</td>\n",
       "      <td>2.0</td>\n",
       "      <td>5.0</td>\n",
       "      <td>0.0</td>\n",
       "    </tr>\n",
       "    <tr>\n",
       "      <th>149</th>\n",
       "      <td>15.0</td>\n",
       "      <td>U</td>\n",
       "      <td>4.0</td>\n",
       "      <td>NaN</td>\n",
       "      <td>5.0</td>\n",
       "      <td>5.0</td>\n",
       "      <td>0.0</td>\n",
       "    </tr>\n",
       "    <tr>\n",
       "      <th>151</th>\n",
       "      <td>16.0</td>\n",
       "      <td>U</td>\n",
       "      <td>4.0</td>\n",
       "      <td>NaN</td>\n",
       "      <td>4.0</td>\n",
       "      <td>5.0</td>\n",
       "      <td>6.0</td>\n",
       "    </tr>\n",
       "    <tr>\n",
       "      <th>160</th>\n",
       "      <td>NaN</td>\n",
       "      <td>NaN</td>\n",
       "      <td>NaN</td>\n",
       "      <td>NaN</td>\n",
       "      <td>NaN</td>\n",
       "      <td>NaN</td>\n",
       "      <td>NaN</td>\n",
       "    </tr>\n",
       "    <tr>\n",
       "      <th>188</th>\n",
       "      <td>NaN</td>\n",
       "      <td>U</td>\n",
       "      <td>3.0</td>\n",
       "      <td>3.0</td>\n",
       "      <td>3.0</td>\n",
       "      <td>3.0</td>\n",
       "      <td>6.0</td>\n",
       "    </tr>\n",
       "    <tr>\n",
       "      <th>191</th>\n",
       "      <td>NaN</td>\n",
       "      <td>NaN</td>\n",
       "      <td>NaN</td>\n",
       "      <td>NaN</td>\n",
       "      <td>NaN</td>\n",
       "      <td>NaN</td>\n",
       "      <td>NaN</td>\n",
       "    </tr>\n",
       "    <tr>\n",
       "      <th>214</th>\n",
       "      <td>NaN</td>\n",
       "      <td>R</td>\n",
       "      <td>5.0</td>\n",
       "      <td>2.0</td>\n",
       "      <td>1.0</td>\n",
       "      <td>3.0</td>\n",
       "      <td>12.0</td>\n",
       "    </tr>\n",
       "    <tr>\n",
       "      <th>257</th>\n",
       "      <td>19.0</td>\n",
       "      <td>U</td>\n",
       "      <td>4.0</td>\n",
       "      <td>NaN</td>\n",
       "      <td>1.0</td>\n",
       "      <td>1.0</td>\n",
       "      <td>12.0</td>\n",
       "    </tr>\n",
       "    <tr>\n",
       "      <th>270</th>\n",
       "      <td>NaN</td>\n",
       "      <td>U</td>\n",
       "      <td>4.0</td>\n",
       "      <td>3.0</td>\n",
       "      <td>5.0</td>\n",
       "      <td>5.0</td>\n",
       "      <td>15.0</td>\n",
       "    </tr>\n",
       "    <tr>\n",
       "      <th>276</th>\n",
       "      <td>NaN</td>\n",
       "      <td>NaN</td>\n",
       "      <td>NaN</td>\n",
       "      <td>NaN</td>\n",
       "      <td>NaN</td>\n",
       "      <td>NaN</td>\n",
       "      <td>NaN</td>\n",
       "    </tr>\n",
       "    <tr>\n",
       "      <th>293</th>\n",
       "      <td>NaN</td>\n",
       "      <td>NaN</td>\n",
       "      <td>NaN</td>\n",
       "      <td>NaN</td>\n",
       "      <td>NaN</td>\n",
       "      <td>NaN</td>\n",
       "      <td>NaN</td>\n",
       "    </tr>\n",
       "    <tr>\n",
       "      <th>308</th>\n",
       "      <td>19.0</td>\n",
       "      <td>R</td>\n",
       "      <td>4.0</td>\n",
       "      <td>NaN</td>\n",
       "      <td>3.0</td>\n",
       "      <td>5.0</td>\n",
       "      <td>0.0</td>\n",
       "    </tr>\n",
       "    <tr>\n",
       "      <th>330</th>\n",
       "      <td>18.0</td>\n",
       "      <td>U</td>\n",
       "      <td>4.0</td>\n",
       "      <td>NaN</td>\n",
       "      <td>5.0</td>\n",
       "      <td>5.0</td>\n",
       "      <td>2.0</td>\n",
       "    </tr>\n",
       "    <tr>\n",
       "      <th>343</th>\n",
       "      <td>17.0</td>\n",
       "      <td>U</td>\n",
       "      <td>3.0</td>\n",
       "      <td>NaN</td>\n",
       "      <td>1.0</td>\n",
       "      <td>4.0</td>\n",
       "      <td>0.0</td>\n",
       "    </tr>\n",
       "    <tr>\n",
       "      <th>348</th>\n",
       "      <td>NaN</td>\n",
       "      <td>U</td>\n",
       "      <td>4.0</td>\n",
       "      <td>4.0</td>\n",
       "      <td>3.0</td>\n",
       "      <td>4.0</td>\n",
       "      <td>0.0</td>\n",
       "    </tr>\n",
       "    <tr>\n",
       "      <th>359</th>\n",
       "      <td>18.0</td>\n",
       "      <td>U</td>\n",
       "      <td>5.0</td>\n",
       "      <td>NaN</td>\n",
       "      <td>2.0</td>\n",
       "      <td>4.0</td>\n",
       "      <td>0.0</td>\n",
       "    </tr>\n",
       "    <tr>\n",
       "      <th>372</th>\n",
       "      <td>17.0</td>\n",
       "      <td>U</td>\n",
       "      <td>3.0</td>\n",
       "      <td>NaN</td>\n",
       "      <td>3.0</td>\n",
       "      <td>3.0</td>\n",
       "      <td>8.0</td>\n",
       "    </tr>\n",
       "    <tr>\n",
       "      <th>385</th>\n",
       "      <td>NaN</td>\n",
       "      <td>NaN</td>\n",
       "      <td>NaN</td>\n",
       "      <td>NaN</td>\n",
       "      <td>NaN</td>\n",
       "      <td>NaN</td>\n",
       "      <td>NaN</td>\n",
       "    </tr>\n",
       "  </tbody>\n",
       "</table>\n",
       "</div>"
      ],
      "text/plain": [
       "      age address  famrel  freetime  goout  health  absences\n",
       "20    NaN       U     4.0       4.0    1.0     1.0       0.0\n",
       "71    NaN       U     3.0       3.0    3.0     3.0       0.0\n",
       "87   15.0       U     5.0       NaN    3.0     1.0       4.0\n",
       "99   16.0       U     5.0       NaN    5.0     3.0       0.0\n",
       "102   NaN       U     5.0       3.0    3.0     5.0       4.0\n",
       "106   NaN       U     5.0       1.0    2.0     3.0       8.0\n",
       "121   NaN       U     5.0       5.0    4.0     5.0       6.0\n",
       "130  15.0       R     4.0       NaN    2.0     5.0       0.0\n",
       "149  15.0       U     4.0       NaN    5.0     5.0       0.0\n",
       "151  16.0       U     4.0       NaN    4.0     5.0       6.0\n",
       "160   NaN     NaN     NaN       NaN    NaN     NaN       NaN\n",
       "188   NaN       U     3.0       3.0    3.0     3.0       6.0\n",
       "191   NaN     NaN     NaN       NaN    NaN     NaN       NaN\n",
       "214   NaN       R     5.0       2.0    1.0     3.0      12.0\n",
       "257  19.0       U     4.0       NaN    1.0     1.0      12.0\n",
       "270   NaN       U     4.0       3.0    5.0     5.0      15.0\n",
       "276   NaN     NaN     NaN       NaN    NaN     NaN       NaN\n",
       "293   NaN     NaN     NaN       NaN    NaN     NaN       NaN\n",
       "308  19.0       R     4.0       NaN    3.0     5.0       0.0\n",
       "330  18.0       U     4.0       NaN    5.0     5.0       2.0\n",
       "343  17.0       U     3.0       NaN    1.0     4.0       0.0\n",
       "348   NaN       U     4.0       4.0    3.0     4.0       0.0\n",
       "359  18.0       U     5.0       NaN    2.0     4.0       0.0\n",
       "372  17.0       U     3.0       NaN    3.0     3.0       8.0\n",
       "385   NaN     NaN     NaN       NaN    NaN     NaN       NaN"
      ]
     },
     "execution_count": 4,
     "metadata": {},
     "output_type": "execute_result"
    }
   ],
   "source": [
    "\n",
    "#  f) Find all rows where the freetime or the age is NaN.\n",
    "df_student[df_student[\"freetime\"].isna() | df_student[\"age\"].isna()]\n"
   ]
  },
  {
   "cell_type": "code",
   "execution_count": 5,
   "metadata": {},
   "outputs": [
    {
     "name": "stdout",
     "output_type": "stream",
     "text": [
      "         Column names  Number of NaNs\n",
      "age               age              14\n",
      "address       address               5\n",
      "famrel         famrel               5\n",
      "freetime     freetime              16\n",
      "goout           goout               5\n",
      "health         health               5\n",
      "absences     absences               5\n",
      "\n",
      "Proportions of NaNs in total student data set: 1.99%\n",
      "Proportions of NaNs per columns in student data set (%):\n",
      "age         3.544304\n",
      "address     1.265823\n",
      "famrel      1.265823\n",
      "freetime    4.050633\n",
      "goout       1.265823\n",
      "health      1.265823\n",
      "absences    1.265823\n",
      "Name: Number of NaNs, dtype: float64\n"
     ]
    }
   ],
   "source": [
    "\n",
    "#  g) You will notice that some rows have several NaNs. Now compute the proportion that these rows constitute of the whole dataset.\n",
    "\n",
    "# summer antal nans per row\n",
    "\n",
    "#numbernans = df_student[df_student[\"freetime\"].isna() | df_student[\"age\"].isna()].isna().sum()\n",
    "\n",
    "totalnans = Nnans.sum()[1]\n",
    "\n",
    "print(Nnans)\n",
    "print(\"\")\n",
    "\n",
    "\n",
    "#df_student.info()\n",
    "# gives 395 rows, 7 columns, same as sze of dataset\n",
    "Ndata = df_student.size\n",
    "\n",
    "\n",
    "nanproportions = totalnans/Ndata\n",
    "print(f\"Proportions of NaNs in total student data set: {nanproportions * 100:.2f}%\")\n",
    "print(f\"Proportions of NaNs per columns in student data set (%):\\n{Nnans['Number of NaNs']/395 * 100}\")\n",
    "\n",
    "\n"
   ]
  },
  {
   "cell_type": "code",
   "execution_count": 6,
   "metadata": {},
   "outputs": [
    {
     "name": "stdout",
     "output_type": "stream",
     "text": [
      "Proportions of NaN in thes two columns: (age and freetime): 1.08%\n",
      "Alternative proportions of NaN of these two columns: (age and freetime vs 2*length of columns (395)): 3.80%\n"
     ]
    },
    {
     "data": {
      "image/png": "[encoded data removed]",
      "text/plain": [
       "<Figure size 432x288 with 1 Axes>"
      ]
     },
     "metadata": {
      "needs_background": "light"
     },
     "output_type": "display_data"
    }
   ],
   "source": [
    "# In these two columns though\n",
    "#print(f\"Proportion of NaN in thes two columns: (age and freetime) {Nnans}\")\n",
    "\n",
    "print(f\"Proportions of NaN in thes two columns: (age and freetime): {(Nnans['Number of NaNs'].loc['age'] + Nnans['Number of NaNs'].loc['freetime'])/Ndata*100:.2f}%\")\n",
    "print(f\"Alternative proportions of NaN of these two columns: (age and freetime vs 2*length of columns (395)): {(Nnans['Number of NaNs'].loc['age'] + Nnans['Number of NaNs'].loc['freetime'])/(2*395)*100:.2f}%\")\n",
    "# plot\n",
    "\n",
    "sns.barplot(data=Nnans.loc[[\"age\",\"freetime\"]], x=\"Column names\", y=\"Number of NaNs\");\n"
   ]
  },
  {
   "cell_type": "markdown",
   "metadata": {},
   "source": [
    "# 2. Clean the data (*)"
   ]
  },
  {
   "cell_type": "code",
   "execution_count": 7,
   "metadata": {},
   "outputs": [
    {
     "data": {
      "text/plain": [
       "<AxesSubplot:xlabel='age', ylabel='Count'>"
      ]
     },
     "execution_count": 7,
     "metadata": {},
     "output_type": "execute_result"
    },
    {
     "data": {
      "image/png": "[encoded data removed]",
      "text/plain": [
       "<Figure size 432x288 with 1 Axes>"
      ]
     },
     "metadata": {
      "needs_background": "light"
     },
     "output_type": "display_data"
    }
   ],
   "source": [
    "import seaborn as sns\n",
    "import data_utils as du\n",
    "\n",
    "# a) As you have conversed with a domain expert you both agree that there are too many missing\n",
    "#  data to fill in and the proportion is small enough to be safe to just remove. Now remove these\n",
    "#  rows and use your missing-value utility function visualize the remaining NaNs.\n",
    "\n",
    "df_studentdata = df_student[[\"age\",\"freetime\"]]\n",
    "\n",
    "# b) The domain expert has told you that you have to fill in the missing age values. Start with \n",
    "# visualising the age distribution in the dataset using a histogram.\n",
    "\n",
    "sns.histplot(data=df_studentdata, x=\"age\", bins=20)\n",
    "\n"
   ]
  },
  {
   "cell_type": "code",
   "execution_count": 8,
   "metadata": {},
   "outputs": [
    {
     "name": "stdout",
     "output_type": "stream",
     "text": [
      "Index(['Unnamed: 0', 'school', 'sex', 'age', 'address', 'famsize', 'Pstatus',\n",
      "       'Medu', 'Fedu', 'Mjob', 'Fjob', 'reason', 'guardian', 'traveltime',\n",
      "       'studytime', 'failures', 'schoolsup', 'famsup', 'paid', 'activities',\n",
      "       'nursery', 'higher', 'internet', 'romantic', 'famrel', 'freetime',\n",
      "       'goout', 'Dalc', 'Walc', 'health', 'absences', 'G1', 'G2', 'G3'],\n",
      "      dtype='object')\n"
     ]
    },
    {
     "data": {
      "text/plain": [
       "<AxesSubplot:xlabel='higher', ylabel='Count'>"
      ]
     },
     "execution_count": 8,
     "metadata": {},
     "output_type": "execute_result"
    },
    {
     "data": {
      "image/png": "[encoded data removed]",
      "text/plain": [
       "<Figure size 432x288 with 1 Axes>"
      ]
     },
     "metadata": {
      "needs_background": "light"
     },
     "output_type": "display_data"
    }
   ],
   "source": [
    "print(df_student_rawdata.columns)\n",
    "\n",
    "sns.histplot(data=df_student_rawdata, x=\"higher\")\n"
   ]
  },
  {
   "cell_type": "code",
   "execution_count": 9,
   "metadata": {},
   "outputs": [
    {
     "data": {
      "text/plain": [
       "<AxesSubplot:xlabel='age', ylabel='Count'>"
      ]
     },
     "execution_count": 9,
     "metadata": {},
     "output_type": "execute_result"
    },
    {
     "data": {
      "image/png": "[encoded data removed]",
      "text/plain": [
       "<Figure size 864x216 with 3 Axes>"
      ]
     },
     "metadata": {
      "needs_background": "light"
     },
     "output_type": "display_data"
    }
   ],
   "source": [
    "import matplotlib.pyplot as plt\n",
    "\n",
    "fig,(ax1,ax2,ax3) = plt.subplots(1,3, figsize=(12,3))\n",
    "\n",
    "sns.histplot(data=df_studentdata, x=\"age\", bins=20, ax=ax1)\n",
    "sns.histplot(data=df_student_rawdata[df_student_rawdata[\"higher\"] == \"yes\"], x=\"age\", bins=20, ax=ax2)\n",
    "sns.histplot(data=df_student_rawdata[df_student_rawdata[\"higher\"] == \"no\"], x=\"age\", bins=20, ax=ax3)\n"
   ]
  },
  {
   "cell_type": "code",
   "execution_count": 10,
   "metadata": {},
   "outputs": [
    {
     "name": "stderr",
     "output_type": "stream",
     "text": [
      "/tmp/ipykernel_8677/222671996.py:8: SettingWithCopyWarning: \n",
      "A value is trying to be set on a copy of a slice from a DataFrame.\n",
      "Try using .loc[row_indexer,col_indexer] = value instead\n",
      "\n",
      "See the caveats in the documentation: https://pandas.pydata.org/pandas-docs/stable/user_guide/indexing.html#returning-a-view-versus-a-copy\n",
      "  df_studentdata[\"alcohol\"] = df_student_rawdata.loc[:,\"Dalc\"] + df_student_rawdata.loc[:,\"Walc\"]\n"
     ]
    },
    {
     "name": "stdout",
     "output_type": "stream",
     "text": [
      "      age  freetime  alcohol\n",
      "0    18.0       3.0        2\n",
      "1    17.0       3.0        2\n",
      "2    15.0       3.0        5\n",
      "3    15.0       2.0        2\n",
      "4    16.0       3.0        3\n",
      "..    ...       ...      ...\n",
      "390  20.0       5.0        9\n",
      "391  17.0       4.0        7\n",
      "392  21.0       5.0        6\n",
      "393  18.0       4.0        7\n",
      "394  19.0       2.0        6\n",
      "\n",
      "[395 rows x 3 columns]\n"
     ]
    },
    {
     "data": {
      "image/png": "[encoded data removed]",
      "text/plain": [
       "<Figure size 432x288 with 1 Axes>"
      ]
     },
     "metadata": {
      "needs_background": "light"
     },
     "output_type": "display_data"
    }
   ],
   "source": [
    "# f) That was hard to find a connection. When reading dataset source we find alcohol consumption, maybe there is some connection between age and alcohol consumption.\n",
    "#Dalc - workday alcohol consumption (numeric: from 1 - very low to 5 - very high)\n",
    "#Walc - weekend alcohol consumption (numeric: from 1 - very low to 5 - very high)\n",
    "#  Start with creating a new column called Alcohol, which is a sum of Dalc and Walc columns\n",
    "\n",
    "#df_studentdata[\"alcohol\"] = df_student_rawdata[\"Dalc\"] + df_student_rawdata[\"Walc\"]\n",
    "\n",
    "df_studentdata[\"alcohol\"] = df_student_rawdata.loc[:,\"Dalc\"] + df_student_rawdata.loc[:,\"Walc\"]\n",
    "\n",
    "#g) Make a barchart for alcohol consumption vs age.\n",
    "\n",
    "sns.barplot(data=df_studentdata, x=\"age\", y=\"alcohol\")\n",
    "print(df_studentdata)"
   ]
  },
  {
   "cell_type": "code",
   "execution_count": 11,
   "metadata": {},
   "outputs": [
    {
     "data": {
      "text/plain": [
       "<AxesSubplot:xlabel='age', ylabel='Count'>"
      ]
     },
     "execution_count": 11,
     "metadata": {},
     "output_type": "execute_result"
    },
    {
     "data": {
      "image/png": "[encoded data removed]",
      "text/plain": [
       "<Figure size 864x216 with 3 Axes>"
      ]
     },
     "metadata": {
      "needs_background": "light"
     },
     "output_type": "display_data"
    }
   ],
   "source": [
    "#  h) We see that older students tend to drink more, but notice how few 20-22 year-old students we\n",
    "#  have in the dataset. We can definitely exclude them when computing the missing values. However\n",
    "#  there are also few 19 year-old students in the dataset, say for simplicity that we can exclude\n",
    "#  them as well. This leaves:\n",
    "#\n",
    "#alcohol level >= 4 -> 16, 17 or 18 years old -> take median to simplify\n",
    "#alcohol level < 4 -> 15 years old\n",
    "#Fill these in and visualize missing values.\n",
    "#\n",
    "#  Note: could make more stringent by computing percentages based on the distribution\n",
    "\n",
    "# Make a copy of studentdata with age, freetime and alcohol, that we do changes in\n",
    "df_studentdatamod = df_studentdata.copy()\n",
    "\n",
    "# Change all where alcohol <4 to age 15.\n",
    "df_studentdatamod[(df_studentdatamod[\"alcohol\"] < 4) & (df_studentdatamod[\"age\"].isna() == True)] = 15\n",
    "\n",
    "fig,(ax1,ax2,ax3) = plt.subplots(1,3, figsize=(12,3))\n",
    "sns.histplot(data=df_studentdata, x=\"age\", bins=20, ax=ax1)\n",
    "sns.histplot(data=df_studentdatamod, x=\"age\", bins=20, ax=ax2)\n",
    "\n",
    "# Change all where alcohol is >= 4 to median of age\n",
    "medianage = df_studentdata[\n",
    "    (df_studentdata[\"alcohol\"] >= 4) & \n",
    "    (df_studentdata[\"age\"].isna() == False)][\"age\"].median()\n",
    "df_studentdatamod[(df_studentdatamod[\"alcohol\"] >= 4) & (df_studentdatamod[\"age\"].isna() == True)] = medianage\n",
    "\n",
    "sns.histplot(data=df_studentdatamod, x=\"age\", bins=20, ax=ax3)\n",
    "\n"
   ]
  },
  {
   "cell_type": "markdown",
   "metadata": {},
   "source": [
    "# 3. Clean freetime column (**)\n",
    "\n",
    "Now there are missing data on freetime that needs to be filled.\n",
    "\n",
    "- Try yourself and find reasonable approaches for how you would fill those missing data.\n",
    "- Document what you have tried and different findings\n",
    "- Combine suitable visualizations with pandas methods"
   ]
  },
  {
   "cell_type": "code",
   "execution_count": 14,
   "metadata": {},
   "outputs": [
    {
     "name": "stdout",
     "output_type": "stream",
     "text": [
      "Columns in raw studentdata:\n",
      "\n",
      "Index(['Unnamed: 0', 'school', 'sex', 'age', 'address', 'famsize', 'Pstatus',\n",
      "       'Medu', 'Fedu', 'Mjob', 'Fjob', 'reason', 'guardian', 'traveltime',\n",
      "       'studytime', 'failures', 'schoolsup', 'famsup', 'paid', 'activities',\n",
      "       'nursery', 'higher', 'internet', 'romantic', 'famrel', 'freetime',\n",
      "       'goout', 'Dalc', 'Walc', 'health', 'absences', 'G1', 'G2', 'G3'],\n",
      "      dtype='object')\n"
     ]
    }
   ],
   "source": [
    "# columns in studentdata\n",
    "print(f\"Columns in raw studentdata:\\n\")\n",
    "print(df_student_rawdata.columns)\n"
   ]
  },
  {
   "cell_type": "code",
   "execution_count": 28,
   "metadata": {},
   "outputs": [
    {
     "data": {
      "text/plain": [
       "<AxesSubplot:xlabel='freetime', ylabel='Count'>"
      ]
     },
     "execution_count": 28,
     "metadata": {},
     "output_type": "execute_result"
    },
    {
     "data": {
      "image/png": "[encoded data removed]",
      "text/plain": [
       "<Figure size 432x288 with 1 Axes>"
      ]
     },
     "metadata": {
      "needs_background": "light"
     },
     "output_type": "display_data"
    }
   ],
   "source": [
    "sns.histplot(data=df_studentdata, x=\"freetime\")"
   ]
  },
  {
   "cell_type": "code",
   "execution_count": 40,
   "metadata": {},
   "outputs": [
    {
     "name": "stdout",
     "output_type": "stream",
     "text": [
      "unique values in freetime: [ 3.  2.  4.  1.  5. nan]\n",
      "Number of NaNs in freetime: 16\n"
     ]
    },
    {
     "data": {
      "text/plain": [
       "<AxesSubplot:xlabel='sex', ylabel='freetime'>"
      ]
     },
     "execution_count": 40,
     "metadata": {},
     "output_type": "execute_result"
    },
    {
     "data": {
      "image/png": "[encoded data removed]",
      "text/plain": [
       "<Figure size 1200x300 with 4 Axes>"
      ]
     },
     "metadata": {
      "needs_background": "light"
     },
     "output_type": "display_data"
    }
   ],
   "source": [
    "# 25 freetime - free time after school (numeric: from 1 - very low to 5 - very high)\n",
    "\n",
    "#sns.histplot(data=df_studentdata, x=\"freetime\")\n",
    "print(f\"unique values in freetime: {df_studentdata['freetime'].unique()}\")\n",
    "print(f\"Number of NaNs in freetime: {df_studentdata[df_studentdata['freetime'].isna() == True]['freetime'].size}\")\n",
    "\n",
    "# Test corrwith\n",
    "df_student_rawdata.corrwith(df_student_rawdata[\"freetime\"])\n",
    "\n",
    "# Compared with a few\n",
    "# studytime should be anti-correlated with freetime, but there is almost no correlation.\n",
    "\n",
    "fig,(ax1,ax2,ax3,ax4) = plt.subplots(1,4, figsize=(12,3), dpi=100)\n",
    "\n",
    "# age vs free time\n",
    "sns.barplot(data=df_student_rawdata, x=\"age\", y=\"freetime\", ax=ax1)\n",
    "# Ok, age <= 19yrs have ~3 in freetime.\n",
    "#     age >  19yrs have ~4.5 in freetime\n",
    "\n",
    "# studytime vs freetime\n",
    "sns.barplot(data=df_student_rawdata, x=\"studytime\", y=\"freetime\", ax=ax2)\n",
    "# some anti-correlation, but not strong, freetime goes from 3.5 to 3....\n",
    "\n",
    "# family relationship status vs freetime\n",
    "sns.barplot(data=df_student_rawdata, x=\"famrel\", y=\"freetime\", ax=ax3)\n",
    "# Some correlation, less freetime for poorer family relation, except for 2 who have a lot\n",
    "# of freetime for some reason.\n",
    "\n",
    "# sex vs freetime\n",
    "sns.barplot(data=df_student_rawdata, x=\"sex\", y=\"freetime\", ax=ax4)\n",
    "# not a lot of difference, females have 3 in freetime, males have <~ 3.5\n",
    "\n",
    "# Conclusion, easy to use age as a proxy.\n"
   ]
  },
  {
   "cell_type": "code",
   "execution_count": 112,
   "metadata": {},
   "outputs": [
    {
     "data": {
      "text/html": [
       "<div>\n",
       "<style scoped>\n",
       "    .dataframe tbody tr th:only-of-type {\n",
       "        vertical-align: middle;\n",
       "    }\n",
       "\n",
       "    .dataframe tbody tr th {\n",
       "        vertical-align: top;\n",
       "    }\n",
       "\n",
       "    .dataframe thead th {\n",
       "        text-align: right;\n",
       "    }\n",
       "</style>\n",
       "<table border=\"1\" class=\"dataframe\">\n",
       "  <thead>\n",
       "    <tr style=\"text-align: right;\">\n",
       "      <th></th>\n",
       "      <th>age</th>\n",
       "      <th>freetime</th>\n",
       "    </tr>\n",
       "  </thead>\n",
       "  <tbody>\n",
       "  </tbody>\n",
       "</table>\n",
       "</div>"
      ],
      "text/plain": [
       "Empty DataFrame\n",
       "Columns: [age, freetime]\n",
       "Index: []"
      ]
     },
     "execution_count": 112,
     "metadata": {},
     "output_type": "execute_result"
    }
   ],
   "source": [
    "# Save age and freetime\n",
    "df_studentdata = df_student_rawdata[[\"age\",\"freetime\"]]\n",
    "\n",
    "# Check for where there are NaN for both. SHould I remove these rows?\n",
    "# I do that here anyway and save in the modified dataframe, mod.\n",
    "df_studentdatamod = df_studentdata.drop(\n",
    "    labels = df_studentdata[\n",
    "    (df_studentdata[\"age\"].isna() == True) & \n",
    "    (df_studentdata[\"freetime\"].isna() == True)].index,\n",
    "    axis=\"rows\"\n",
    "    )\n",
    "\n",
    "# Check so that it worked\n",
    "df_studentdatamod[(df_studentdatamod[\"age\"].isna() == True) & (df_studentdatamod[\"freetime\"].isna() == True)]\n"
   ]
  },
  {
   "cell_type": "code",
   "execution_count": 113,
   "metadata": {},
   "outputs": [
    {
     "data": {
      "text/html": [
       "<div>\n",
       "<style scoped>\n",
       "    .dataframe tbody tr th:only-of-type {\n",
       "        vertical-align: middle;\n",
       "    }\n",
       "\n",
       "    .dataframe tbody tr th {\n",
       "        vertical-align: top;\n",
       "    }\n",
       "\n",
       "    .dataframe thead th {\n",
       "        text-align: right;\n",
       "    }\n",
       "</style>\n",
       "<table border=\"1\" class=\"dataframe\">\n",
       "  <thead>\n",
       "    <tr style=\"text-align: right;\">\n",
       "      <th></th>\n",
       "      <th>age</th>\n",
       "      <th>freetime</th>\n",
       "    </tr>\n",
       "  </thead>\n",
       "  <tbody>\n",
       "    <tr>\n",
       "      <th>247</th>\n",
       "      <td>22.0</td>\n",
       "      <td>4.0</td>\n",
       "    </tr>\n",
       "    <tr>\n",
       "      <th>306</th>\n",
       "      <td>20.0</td>\n",
       "      <td>5.0</td>\n",
       "    </tr>\n",
       "    <tr>\n",
       "      <th>376</th>\n",
       "      <td>20.0</td>\n",
       "      <td>4.0</td>\n",
       "    </tr>\n",
       "    <tr>\n",
       "      <th>390</th>\n",
       "      <td>20.0</td>\n",
       "      <td>5.0</td>\n",
       "    </tr>\n",
       "    <tr>\n",
       "      <th>392</th>\n",
       "      <td>21.0</td>\n",
       "      <td>5.0</td>\n",
       "    </tr>\n",
       "  </tbody>\n",
       "</table>\n",
       "</div>"
      ],
      "text/plain": [
       "      age  freetime\n",
       "247  22.0       4.0\n",
       "306  20.0       5.0\n",
       "376  20.0       4.0\n",
       "390  20.0       5.0\n",
       "392  21.0       5.0"
      ]
     },
     "execution_count": 113,
     "metadata": {},
     "output_type": "execute_result"
    }
   ],
   "source": [
    "df_studentdatamod[df_studentdatamod[\"age\"]>19]\n"
   ]
  },
  {
   "cell_type": "code",
   "execution_count": 114,
   "metadata": {},
   "outputs": [
    {
     "data": {
      "text/plain": [
       "0      3.0\n",
       "1      3.0\n",
       "2      3.0\n",
       "3      2.0\n",
       "4      3.0\n",
       "      ... \n",
       "388    3.0\n",
       "389    1.0\n",
       "391    4.0\n",
       "393    4.0\n",
       "394    2.0\n",
       "Name: freetime, Length: 376, dtype: float64"
      ]
     },
     "execution_count": 114,
     "metadata": {},
     "output_type": "execute_result"
    }
   ],
   "source": [
    "df_studentdatamod[(df_studentdatamod[\"age\"] <= 19)][\"freetime\"]"
   ]
  },
  {
   "cell_type": "code",
   "execution_count": 115,
   "metadata": {},
   "outputs": [
    {
     "data": {
      "text/html": [
       "<div>\n",
       "<style scoped>\n",
       "    .dataframe tbody tr th:only-of-type {\n",
       "        vertical-align: middle;\n",
       "    }\n",
       "\n",
       "    .dataframe tbody tr th {\n",
       "        vertical-align: top;\n",
       "    }\n",
       "\n",
       "    .dataframe thead th {\n",
       "        text-align: right;\n",
       "    }\n",
       "</style>\n",
       "<table border=\"1\" class=\"dataframe\">\n",
       "  <thead>\n",
       "    <tr style=\"text-align: right;\">\n",
       "      <th></th>\n",
       "      <th>age</th>\n",
       "      <th>freetime</th>\n",
       "    </tr>\n",
       "  </thead>\n",
       "  <tbody>\n",
       "  </tbody>\n",
       "</table>\n",
       "</div>"
      ],
      "text/plain": [
       "Empty DataFrame\n",
       "Columns: [age, freetime]\n",
       "Index: []"
      ]
     },
     "execution_count": 115,
     "metadata": {},
     "output_type": "execute_result"
    }
   ],
   "source": [
    "# Take out median of freetime for my two age-classes.\n",
    "# Ok, age <= 19yrs have ~3 in freetime. (median is 3)\n",
    "#     age >  19yrs have ~4.5 in freetime (median is 5)\n",
    "youngmedian = df_studentdatamod[(df_studentdatamod[\"age\"] <= 19)][\"freetime\"].median()\n",
    "oldmedian =  df_studentdatamod[(df_studentdatamod[\"age\"] > 19)][\"freetime\"].median()\n",
    "\n",
    "df_studentdatamod.loc[df_studentdatamod[\"age\"] <= 19, \"freetime\"] = \\\n",
    "    df_studentdatamod.loc[df_studentdatamod[\"age\"] <= 19, \"freetime\"].fillna(youngmedian)\n",
    "\n",
    "# Fun fact, there were no NaN at freetime for age>19. No need to change anything\n",
    "df_studentdatamod[df_studentdatamod[\"freetime\"].isna() == True]\n"
   ]
  },
  {
   "cell_type": "code",
   "execution_count": 117,
   "metadata": {},
   "outputs": [
    {
     "data": {
      "text/plain": [
       "<AxesSubplot:xlabel='freetime', ylabel='Count'>"
      ]
     },
     "execution_count": 117,
     "metadata": {},
     "output_type": "execute_result"
    },
    {
     "data": {
      "image/png": "[encoded data removed]",
      "text/plain": [
       "<Figure size 1000x300 with 2 Axes>"
      ]
     },
     "metadata": {
      "needs_background": "light"
     },
     "output_type": "display_data"
    }
   ],
   "source": [
    "fig,(ax1,ax2) = plt.subplots(1,2, dpi=100, figsize=(10,3))\n",
    "sns.histplot(data=df_studentdata, x=\"freetime\", ax=ax1)\n",
    "sns.histplot(data=df_studentdatamod, x=\"freetime\", ax=ax2)\n"
   ]
  },
  {
   "cell_type": "code",
   "execution_count": null,
   "metadata": {},
   "outputs": [],
   "source": []
  }
 ],
 "metadata": {
  "interpreter": {
   "hash": "c0552d8ae2bf90ff01336472fa628af8a30caa12cfa3faa676995d0ab64866b9"
  },
  "kernelspec": {
   "display_name": "Python 3.8.10 64-bit ('databehandling-joachim-wiegert-Okb5rNS4': pipenv)",
   "name": "python3"
  },
  "language_info": {
   "codemirror_mode": {
    "name": "ipython",
    "version": 3
   },
   "file_extension": ".py",
   "mimetype": "text/x-python",
   "name": "python",
   "nbconvert_exporter": "python",
   "pygments_lexer": "ipython3",
   "version": "3.8.10"
  },
  "orig_nbformat": 4
 },
 "nbformat": 4,
 "nbformat_minor": 2
}
