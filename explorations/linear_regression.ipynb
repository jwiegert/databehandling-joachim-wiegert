{
 "cells": [
  {
   "cell_type": "markdown",
   "metadata": {},
   "source": [
    "# Linear equations"
   ]
  },
  {
   "cell_type": "code",
   "execution_count": 13,
   "metadata": {},
   "outputs": [
    {
     "name": "stdout",
     "output_type": "stream",
     "text": [
      "A= [[ 2 -1]\n",
      " [-2  1]\n",
      " [-1  2]]\n",
      "\n",
      "B= [[ 4 -3]\n",
      " [ 3  5]]\n",
      "\n",
      "AB = [[  5 -11]\n",
      " [ -5  11]\n",
      " [  2  13]]\n",
      "\n",
      "\n",
      "\n",
      "A= [[2 5]\n",
      " [1 3]]\n",
      "Inverse A= [[ 3. -5.]\n",
      " [-1.  2.]]\n",
      "Test Ainv A\n",
      "[[1. 0.]\n",
      " [0. 1.]]\n",
      "\n",
      "Transpose of A:\n",
      "[[2 1]\n",
      " [5 3]]\n"
     ]
    }
   ],
   "source": [
    "import numpy as np\n",
    "\n",
    "A = np.array((\n",
    "    [ 2,-1],\n",
    "    [-2, 1],\n",
    "    [-1, 2]\n",
    "))\n",
    "\n",
    "B = np.array((\n",
    "    [ 4,-3],\n",
    "    [ 3, 5]\n",
    "))\n",
    "\n",
    "print(\"A=\",A)\n",
    "print()\n",
    "print(\"B=\",B)\n",
    "\n",
    "# Matrix multiplication\n",
    "# \"matmul\"\n",
    "print()\n",
    "print(f\"AB = {A@B}\")\n",
    "\n",
    "# Invert matrix\n",
    "A = np.array((\n",
    "    [2,5],\n",
    "    [1,3]\n",
    "))\n",
    "print(\"\\n\\n\")\n",
    "print(\"A=\",A)\n",
    "print(\"Inverse A=\", np.linalg.inv(A))\n",
    "print(\"Test Ainv A\")\n",
    "print(np.linalg.inv(A)@A)\n",
    "\n",
    "# Transpose\n",
    "print(\"\\nTranspose of A:\")\n",
    "print(A.T)\n",
    "\n"
   ]
  },
  {
   "cell_type": "markdown",
   "metadata": {},
   "source": [
    "# Linear regression example"
   ]
  },
  {
   "cell_type": "code",
   "execution_count": 15,
   "metadata": {},
   "outputs": [
    {
     "data": {
      "text/html": [
       "<div>\n",
       "<style scoped>\n",
       "    .dataframe tbody tr th:only-of-type {\n",
       "        vertical-align: middle;\n",
       "    }\n",
       "\n",
       "    .dataframe tbody tr th {\n",
       "        vertical-align: top;\n",
       "    }\n",
       "\n",
       "    .dataframe thead th {\n",
       "        text-align: right;\n",
       "    }\n",
       "</style>\n",
       "<table border=\"1\" class=\"dataframe\">\n",
       "  <thead>\n",
       "    <tr style=\"text-align: right;\">\n",
       "      <th></th>\n",
       "      <th>Utbildning</th>\n",
       "      <th>Lön</th>\n",
       "    </tr>\n",
       "  </thead>\n",
       "  <tbody>\n",
       "    <tr>\n",
       "      <th>0</th>\n",
       "      <td>3.5</td>\n",
       "      <td>34652</td>\n",
       "    </tr>\n",
       "    <tr>\n",
       "      <th>1</th>\n",
       "      <td>2.9</td>\n",
       "      <td>33467</td>\n",
       "    </tr>\n",
       "    <tr>\n",
       "      <th>2</th>\n",
       "      <td>3.6</td>\n",
       "      <td>37553</td>\n",
       "    </tr>\n",
       "    <tr>\n",
       "      <th>3</th>\n",
       "      <td>4.5</td>\n",
       "      <td>41010</td>\n",
       "    </tr>\n",
       "    <tr>\n",
       "      <th>4</th>\n",
       "      <td>2.8</td>\n",
       "      <td>33506</td>\n",
       "    </tr>\n",
       "  </tbody>\n",
       "</table>\n",
       "</div>"
      ],
      "text/plain": [
       "   Utbildning    Lön\n",
       "0         3.5  34652\n",
       "1         2.9  33467\n",
       "2         3.6  37553\n",
       "3         4.5  41010\n",
       "4         2.8  33506"
      ]
     },
     "execution_count": 15,
     "metadata": {},
     "output_type": "execute_result"
    }
   ],
   "source": [
    "import pandas as pd\n",
    "\n",
    "df = pd.read_csv(\"londata.csv\")\n",
    "df.head()"
   ]
  },
  {
   "cell_type": "code",
   "execution_count": 28,
   "metadata": {},
   "outputs": [
    {
     "name": "stdout",
     "output_type": "stream",
     "text": [
      "[20893.83571523  4703.603963  ]\n",
      "[37356.44958573 34534.28720793 37826.80998203 42060.05354873\n",
      " 34063.92681163 34063.92681163 42530.41394503 38767.53077463\n",
      " 32652.84562273 37356.44958573 32652.84562273 32652.84562273\n",
      " 35945.36839683 26067.80007453 27008.52086713 32182.48522643\n",
      " 30301.04364123 36415.72879313 30771.40403753 28419.60205603\n",
      " 42060.05354873 34063.92681163 35475.00800053 28419.60205603\n",
      " 32652.84562273 35475.00800053 29360.32284863 36886.08918943\n",
      " 32182.48522643 33593.56641533 32182.48522643 43941.49513393\n",
      " 35004.64760423 29830.68324493 38767.53077463 29360.32284863\n",
      " 35945.36839683 25597.43967823 28889.96245233 35945.36839683\n",
      " 38297.17037833 35945.36839683 34534.28720793 33593.56641533\n",
      " 27949.24165973 31712.12483013 32652.84562273 40178.61196353\n",
      " 36415.72879313 26538.16047083 36415.72879313 33123.20601903\n",
      " 31712.12483013 37826.80998203 39708.25156723 39237.89117093\n",
      " 31241.76443383 33593.56641533 36415.72879313 39708.25156723\n",
      " 32652.84562273 34063.92681163 29830.68324493 29360.32284863\n",
      " 38767.53077463 41589.69315243 34534.28720793 39708.25156723\n",
      " 36886.08918943 32182.48522643 36886.08918943 42060.05354873\n",
      " 35004.64760423 42530.41394503 22775.27730043 38767.53077463\n",
      " 35475.00800053 33593.56641533 35475.00800053 25597.43967823\n",
      " 34063.92681163 36886.08918943 42060.05354873 32652.84562273\n",
      " 31241.76443383 32652.84562273 39237.89117093 36415.72879313\n",
      " 32652.84562273 37356.44958573 35475.00800053 39708.25156723\n",
      " 31712.12483013 33593.56641533 33123.20601903 27949.24165973\n",
      " 36415.72879313 36415.72879313 35004.64760423 34063.92681163]\n"
     ]
    }
   ],
   "source": [
    "# Change dataframe to numpy array with df.to_numpy()\n",
    "# So that we can use the linear algebra tools numpy has\n",
    "\n",
    "educ_time, y = df.to_numpy()[:,0], df.to_numpy()[:,1]\n",
    "\n",
    "# so y are the incomes and educ_time are the corresponding \n",
    "\n",
    "# For linear regression we need to add a column of ones to the educ time matrix\n",
    "# we need to transpose to the get lines and rows correctly arranged\n",
    "X = np.vstack([np.ones(len(educ_time)), educ_time]).transpose()\n",
    "\n",
    "# We want to compute a beta-vector, beta=beta0,beta1, which gives our\n",
    "# linear approximation of these data\n",
    "# Check your notes, we use the \"magic equation\" at once\n",
    "#\n",
    "# beta = inv(X.T X) @ X.T y\n",
    "\n",
    "beta_hat = np.linalg.inv(X.T@X)@X.T@y\n",
    "\n",
    "print(beta_hat)\n",
    "\n",
    "y_hat = X@beta_hat\n",
    "\n",
    "print(y_hat)\n"
   ]
  },
  {
   "cell_type": "code",
   "execution_count": 34,
   "metadata": {},
   "outputs": [
    {
     "name": "stdout",
     "output_type": "stream",
     "text": [
      "With 0 years education you get 20893.83571522514 sek/month\n",
      "For each year of education you earn 4703.6039630002915 sek/month more\n"
     ]
    },
    {
     "data": {
      "image/png": "[encoded data removed]",
      "text/plain": [
       "<Figure size 432x288 with 1 Axes>"
      ]
     },
     "metadata": {
      "needs_background": "light"
     },
     "output_type": "display_data"
    }
   ],
   "source": [
    "import seaborn as sns\n",
    "\n",
    "ax = sns.lineplot(x=educ_time, y=y_hat, color=\"r\")\n",
    "ax = sns.scatterplot(data=df, x=\"Utbildning\", y=\"Lön\")\n",
    "\n",
    "ax.set(title=\"Linear regression\");\n",
    "\n",
    "print(f\"With 0 years education you get {beta_hat[0]} sek/month\")\n",
    "print(f\"For each year of education you earn {beta_hat[1]} sek/month more\")\n"
   ]
  },
  {
   "cell_type": "code",
   "execution_count": null,
   "metadata": {},
   "outputs": [],
   "source": []
  }
 ],
 "metadata": {
  "interpreter": {
   "hash": "c0552d8ae2bf90ff01336472fa628af8a30caa12cfa3faa676995d0ab64866b9"
  },
  "kernelspec": {
   "display_name": "Python 3.8.10 64-bit ('databehandling-joachim-wiegert-Okb5rNS4': pipenv)",
   "language": "python",
   "name": "python3"
  },
  "language_info": {
   "codemirror_mode": {
    "name": "ipython",
    "version": 3
   },
   "file_extension": ".py",
   "mimetype": "text/x-python",
   "name": "python",
   "nbconvert_exporter": "python",
   "pygments_lexer": "ipython3",
   "version": "3.8.10"
  },
  "orig_nbformat": 4
 },
 "nbformat": 4,
 "nbformat_minor": 2
}
