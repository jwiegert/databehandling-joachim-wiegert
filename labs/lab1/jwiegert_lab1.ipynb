{
 "cells": [
  {
   "cell_type": "markdown",
   "metadata": {},
   "source": [
    "# Laboration - Covid-19\n",
    "\n"
   ]
  },
  {
   "cell_type": "code",
   "execution_count": 7,
   "metadata": {},
   "outputs": [],
   "source": [
    "# Setup\n",
    "import pandas as pd\n",
    "import plotly_express as px\n",
    "import seaborn as sns\n",
    "import matplotlib.pyplot as plt\n"
   ]
  },
  {
   "cell_type": "code",
   "execution_count": 4,
   "metadata": {},
   "outputs": [],
   "source": [
    "# Load Swedish C19 data\n",
    "c19sweden = pd.read_excel(\n",
    "    \"Folkhalsomyndigheten_Covid19.xlsx\",\n",
    "    sheet_name=\"Veckodata Riket\"\n",
    ")\n"
   ]
  },
  {
   "cell_type": "markdown",
   "metadata": {},
   "source": [
    "## 1a) Överblick över data\n",
    "\n",
    "- veckonummerkolumnen nollställs vid årsskifte\n",
    "\n",
    "- 13 kolumner och 89 rader, mestadels int, men två har floats\n",
    "\n",
    "- Kolumnnamn:\n",
    "\n",
    "['år', 'veckonummer', 'Antal_fall_vecka', 'Antal_fall_100000inv_vecka',\n",
    "       'Antal_fall_100000inv_14dagar', 'Kum_antal_fall', 'Kum_fall_100000inv',\n",
    "       'Antal_nyaintensivvårdade_vecka', 'Kum_antal_intensivvårdade',\n",
    "       'Antal_avlidna_vecka', 'Antal_avlidna_milj_inv_vecka',\n",
    "       'Kum_antal_avlidna', 'Kum_antal_avlidna_milj_inv']"
   ]
  },
  {
   "cell_type": "code",
   "execution_count": 5,
   "metadata": {},
   "outputs": [
    {
     "data": {
      "text/html": [
       "<div>\n",
       "<style scoped>\n",
       "    .dataframe tbody tr th:only-of-type {\n",
       "        vertical-align: middle;\n",
       "    }\n",
       "\n",
       "    .dataframe tbody tr th {\n",
       "        vertical-align: top;\n",
       "    }\n",
       "\n",
       "    .dataframe thead th {\n",
       "        text-align: right;\n",
       "    }\n",
       "</style>\n",
       "<table border=\"1\" class=\"dataframe\">\n",
       "  <thead>\n",
       "    <tr style=\"text-align: right;\">\n",
       "      <th></th>\n",
       "      <th>år</th>\n",
       "      <th>veckonummer</th>\n",
       "      <th>Antal_fall_vecka</th>\n",
       "      <th>Antal_fall_100000inv_vecka</th>\n",
       "      <th>Antal_fall_100000inv_14dagar</th>\n",
       "      <th>Kum_antal_fall</th>\n",
       "      <th>Kum_fall_100000inv</th>\n",
       "      <th>Antal_nyaintensivvårdade_vecka</th>\n",
       "      <th>Kum_antal_intensivvårdade</th>\n",
       "      <th>Antal_avlidna_vecka</th>\n",
       "      <th>Antal_avlidna_milj_inv_vecka</th>\n",
       "      <th>Kum_antal_avlidna</th>\n",
       "      <th>Kum_antal_avlidna_milj_inv</th>\n",
       "    </tr>\n",
       "  </thead>\n",
       "  <tbody>\n",
       "    <tr>\n",
       "      <th>45</th>\n",
       "      <td>2020</td>\n",
       "      <td>51</td>\n",
       "      <td>46177</td>\n",
       "      <td>447</td>\n",
       "      <td>869</td>\n",
       "      <td>384203</td>\n",
       "      <td>3720</td>\n",
       "      <td>187</td>\n",
       "      <td>3825</td>\n",
       "      <td>645</td>\n",
       "      <td>62.500000</td>\n",
       "      <td>8780</td>\n",
       "      <td>850.200012</td>\n",
       "    </tr>\n",
       "    <tr>\n",
       "      <th>46</th>\n",
       "      <td>2020</td>\n",
       "      <td>52</td>\n",
       "      <td>37134</td>\n",
       "      <td>360</td>\n",
       "      <td>807</td>\n",
       "      <td>421337</td>\n",
       "      <td>4080</td>\n",
       "      <td>206</td>\n",
       "      <td>4031</td>\n",
       "      <td>643</td>\n",
       "      <td>62.299999</td>\n",
       "      <td>9423</td>\n",
       "      <td>912.400024</td>\n",
       "    </tr>\n",
       "    <tr>\n",
       "      <th>47</th>\n",
       "      <td>2020</td>\n",
       "      <td>53</td>\n",
       "      <td>41323</td>\n",
       "      <td>400</td>\n",
       "      <td>760</td>\n",
       "      <td>462660</td>\n",
       "      <td>4480</td>\n",
       "      <td>234</td>\n",
       "      <td>4265</td>\n",
       "      <td>663</td>\n",
       "      <td>64.199997</td>\n",
       "      <td>10086</td>\n",
       "      <td>976.599976</td>\n",
       "    </tr>\n",
       "    <tr>\n",
       "      <th>48</th>\n",
       "      <td>2021</td>\n",
       "      <td>1</td>\n",
       "      <td>39455</td>\n",
       "      <td>380</td>\n",
       "      <td>780</td>\n",
       "      <td>502115</td>\n",
       "      <td>4838</td>\n",
       "      <td>185</td>\n",
       "      <td>4450</td>\n",
       "      <td>644</td>\n",
       "      <td>62.000000</td>\n",
       "      <td>10730</td>\n",
       "      <td>1033.800049</td>\n",
       "    </tr>\n",
       "    <tr>\n",
       "      <th>49</th>\n",
       "      <td>2021</td>\n",
       "      <td>2</td>\n",
       "      <td>28942</td>\n",
       "      <td>279</td>\n",
       "      <td>659</td>\n",
       "      <td>531057</td>\n",
       "      <td>5117</td>\n",
       "      <td>153</td>\n",
       "      <td>4603</td>\n",
       "      <td>598</td>\n",
       "      <td>57.599998</td>\n",
       "      <td>11328</td>\n",
       "      <td>1091.400024</td>\n",
       "    </tr>\n",
       "    <tr>\n",
       "      <th>50</th>\n",
       "      <td>2021</td>\n",
       "      <td>3</td>\n",
       "      <td>23230</td>\n",
       "      <td>224</td>\n",
       "      <td>503</td>\n",
       "      <td>554287</td>\n",
       "      <td>5340</td>\n",
       "      <td>125</td>\n",
       "      <td>4728</td>\n",
       "      <td>513</td>\n",
       "      <td>49.400002</td>\n",
       "      <td>11841</td>\n",
       "      <td>1140.800049</td>\n",
       "    </tr>\n",
       "    <tr>\n",
       "      <th>51</th>\n",
       "      <td>2021</td>\n",
       "      <td>4</td>\n",
       "      <td>20660</td>\n",
       "      <td>199</td>\n",
       "      <td>423</td>\n",
       "      <td>574947</td>\n",
       "      <td>5539</td>\n",
       "      <td>109</td>\n",
       "      <td>4837</td>\n",
       "      <td>389</td>\n",
       "      <td>37.500000</td>\n",
       "      <td>12230</td>\n",
       "      <td>1178.300049</td>\n",
       "    </tr>\n",
       "    <tr>\n",
       "      <th>52</th>\n",
       "      <td>2021</td>\n",
       "      <td>5</td>\n",
       "      <td>19605</td>\n",
       "      <td>189</td>\n",
       "      <td>388</td>\n",
       "      <td>594552</td>\n",
       "      <td>5728</td>\n",
       "      <td>105</td>\n",
       "      <td>4942</td>\n",
       "      <td>269</td>\n",
       "      <td>25.900000</td>\n",
       "      <td>12499</td>\n",
       "      <td>1204.199951</td>\n",
       "    </tr>\n",
       "    <tr>\n",
       "      <th>53</th>\n",
       "      <td>2021</td>\n",
       "      <td>6</td>\n",
       "      <td>21283</td>\n",
       "      <td>205</td>\n",
       "      <td>394</td>\n",
       "      <td>615835</td>\n",
       "      <td>5933</td>\n",
       "      <td>105</td>\n",
       "      <td>5047</td>\n",
       "      <td>205</td>\n",
       "      <td>19.799999</td>\n",
       "      <td>12704</td>\n",
       "      <td>1224.000000</td>\n",
       "    </tr>\n",
       "    <tr>\n",
       "      <th>54</th>\n",
       "      <td>2021</td>\n",
       "      <td>7</td>\n",
       "      <td>23615</td>\n",
       "      <td>228</td>\n",
       "      <td>433</td>\n",
       "      <td>639450</td>\n",
       "      <td>6161</td>\n",
       "      <td>109</td>\n",
       "      <td>5156</td>\n",
       "      <td>171</td>\n",
       "      <td>16.500000</td>\n",
       "      <td>12875</td>\n",
       "      <td>1240.500000</td>\n",
       "    </tr>\n",
       "  </tbody>\n",
       "</table>\n",
       "</div>"
      ],
      "text/plain": [
       "      år  veckonummer  Antal_fall_vecka  Antal_fall_100000inv_vecka  \\\n",
       "45  2020           51             46177                         447   \n",
       "46  2020           52             37134                         360   \n",
       "47  2020           53             41323                         400   \n",
       "48  2021            1             39455                         380   \n",
       "49  2021            2             28942                         279   \n",
       "50  2021            3             23230                         224   \n",
       "51  2021            4             20660                         199   \n",
       "52  2021            5             19605                         189   \n",
       "53  2021            6             21283                         205   \n",
       "54  2021            7             23615                         228   \n",
       "\n",
       "    Antal_fall_100000inv_14dagar  Kum_antal_fall  Kum_fall_100000inv  \\\n",
       "45                           869          384203                3720   \n",
       "46                           807          421337                4080   \n",
       "47                           760          462660                4480   \n",
       "48                           780          502115                4838   \n",
       "49                           659          531057                5117   \n",
       "50                           503          554287                5340   \n",
       "51                           423          574947                5539   \n",
       "52                           388          594552                5728   \n",
       "53                           394          615835                5933   \n",
       "54                           433          639450                6161   \n",
       "\n",
       "    Antal_nyaintensivvårdade_vecka  Kum_antal_intensivvårdade  \\\n",
       "45                             187                       3825   \n",
       "46                             206                       4031   \n",
       "47                             234                       4265   \n",
       "48                             185                       4450   \n",
       "49                             153                       4603   \n",
       "50                             125                       4728   \n",
       "51                             109                       4837   \n",
       "52                             105                       4942   \n",
       "53                             105                       5047   \n",
       "54                             109                       5156   \n",
       "\n",
       "    Antal_avlidna_vecka  Antal_avlidna_milj_inv_vecka  Kum_antal_avlidna  \\\n",
       "45                  645                     62.500000               8780   \n",
       "46                  643                     62.299999               9423   \n",
       "47                  663                     64.199997              10086   \n",
       "48                  644                     62.000000              10730   \n",
       "49                  598                     57.599998              11328   \n",
       "50                  513                     49.400002              11841   \n",
       "51                  389                     37.500000              12230   \n",
       "52                  269                     25.900000              12499   \n",
       "53                  205                     19.799999              12704   \n",
       "54                  171                     16.500000              12875   \n",
       "\n",
       "    Kum_antal_avlidna_milj_inv  \n",
       "45                  850.200012  \n",
       "46                  912.400024  \n",
       "47                  976.599976  \n",
       "48                 1033.800049  \n",
       "49                 1091.400024  \n",
       "50                 1140.800049  \n",
       "51                 1178.300049  \n",
       "52                 1204.199951  \n",
       "53                 1224.000000  \n",
       "54                 1240.500000  "
      ]
     },
     "execution_count": 5,
     "metadata": {},
     "output_type": "execute_result"
    }
   ],
   "source": [
    "c19sweden.iloc[45:55]\n"
   ]
  },
  {
   "cell_type": "code",
   "execution_count": 6,
   "metadata": {},
   "outputs": [
    {
     "name": "stdout",
     "output_type": "stream",
     "text": [
      "<class 'pandas.core.frame.DataFrame'>\n",
      "RangeIndex: 89 entries, 0 to 88\n",
      "Data columns (total 13 columns):\n",
      " #   Column                          Non-Null Count  Dtype  \n",
      "---  ------                          --------------  -----  \n",
      " 0   år                              89 non-null     int64  \n",
      " 1   veckonummer                     89 non-null     int64  \n",
      " 2   Antal_fall_vecka                89 non-null     int64  \n",
      " 3   Antal_fall_100000inv_vecka      89 non-null     int64  \n",
      " 4   Antal_fall_100000inv_14dagar    89 non-null     int64  \n",
      " 5   Kum_antal_fall                  89 non-null     int64  \n",
      " 6   Kum_fall_100000inv              89 non-null     int64  \n",
      " 7   Antal_nyaintensivvårdade_vecka  89 non-null     int64  \n",
      " 8   Kum_antal_intensivvårdade       89 non-null     int64  \n",
      " 9   Antal_avlidna_vecka             89 non-null     int64  \n",
      " 10  Antal_avlidna_milj_inv_vecka    89 non-null     float64\n",
      " 11  Kum_antal_avlidna               89 non-null     int64  \n",
      " 12  Kum_antal_avlidna_milj_inv      89 non-null     float64\n",
      "dtypes: float64(2), int64(11)\n",
      "memory usage: 9.2 KB\n"
     ]
    }
   ],
   "source": [
    "c19sweden.info()"
   ]
  },
  {
   "cell_type": "code",
   "execution_count": 8,
   "metadata": {},
   "outputs": [
    {
     "data": {
      "text/plain": [
       "Index(['år', 'veckonummer', 'Antal_fall_vecka', 'Antal_fall_100000inv_vecka',\n",
       "       'Antal_fall_100000inv_14dagar', 'Kum_antal_fall', 'Kum_fall_100000inv',\n",
       "       'Antal_nyaintensivvårdade_vecka', 'Kum_antal_intensivvårdade',\n",
       "       'Antal_avlidna_vecka', 'Antal_avlidna_milj_inv_vecka',\n",
       "       'Kum_antal_avlidna', 'Kum_antal_avlidna_milj_inv'],\n",
       "      dtype='object')"
      ]
     },
     "execution_count": 8,
     "metadata": {},
     "output_type": "execute_result"
    }
   ],
   "source": [
    "c19sweden.columns"
   ]
  },
  {
   "cell_type": "markdown",
   "metadata": {},
   "source": [
    "## 1b) Slå ihop år och veckonummer\n",
    "\n",
    "Så att det står ÅR v VECKONUMMER: \"2020v12\""
   ]
  },
  {
   "cell_type": "code",
   "execution_count": 19,
   "metadata": {},
   "outputs": [
    {
     "data": {
      "text/plain": [
       "0      2020v6\n",
       "1      2020v7\n",
       "2      2020v8\n",
       "3      2020v9\n",
       "4     2020v10\n",
       "       ...   \n",
       "84    2021v37\n",
       "85    2021v38\n",
       "86    2021v39\n",
       "87    2021v40\n",
       "88    2021v41\n",
       "Name: vecka, Length: 89, dtype: object"
      ]
     },
     "execution_count": 19,
     "metadata": {},
     "output_type": "execute_result"
    }
   ],
   "source": [
    "c19sweden[\"vecka\"] = c19sweden[\"år\"].astype(str) + \"v\" + c19sweden[\"veckonummer\"].astype(str)\n",
    "\n",
    "# Check\n",
    "c19sweden[\"vecka\"]"
   ]
  },
  {
   "cell_type": "markdown",
   "metadata": {},
   "source": [
    "## 1c-f) Rita diagram"
   ]
  },
  {
   "cell_type": "code",
   "execution_count": 56,
   "metadata": {},
   "outputs": [
    {
     "data": {
      "image/png": "[encoded data removed]",
      "text/plain": [
       "<Figure size 1000x1000 with 4 Axes>"
      ]
     },
     "metadata": {
      "needs_background": "light"
     },
     "output_type": "display_data"
    }
   ],
   "source": [
    "# With seaborn\n",
    "#\n",
    "# Subplots are named after problem-letter, easier to follow(?)\n",
    "fig,ax = plt.subplots(\n",
    "    2,2, \n",
    "    dpi=100,\n",
    "    figsize=(10,10)\n",
    ")\n",
    "\n",
    "# 1c avlidna fall per vecka, 2020v6 to now\n",
    "#\n",
    "# Some settings (labels and position of ticks)\n",
    "ax[0,0].set(ylabel=\"Antal avlidna per vecka\", xlabel=\"Vecka\")\n",
    "ax[0,0].set_xticks(list(range(0,len(c19sweden[\"vecka\"]),20)))\n",
    "ax[0,0].grid(color=\"lightgray\")\n",
    "\n",
    "# Plot\n",
    "sns.lineplot(\n",
    "    data=c19sweden,\n",
    "    x=\"vecka\", y=\"Antal_avlidna_vecka\", \n",
    "    ax=ax[0,0]\n",
    ");\n",
    "\n",
    "\n",
    "# TODO\n",
    "\n",
    "# 1d nya fall per vecka, 2020v6 to now.\n",
    "\n",
    "\n",
    "# 1e avlidna fall per vecka & nya fall per vecka, 2020v6 to now\n",
    "\n",
    "\n",
    "\n",
    "# 1f kumulativt antal fall, 2020v6 to now\n",
    "\n",
    "# save figure: 1cdef_seaborn.png\n",
    "\n"
   ]
  },
  {
   "cell_type": "code",
   "execution_count": 36,
   "metadata": {},
   "outputs": [
    {
     "data": {
      "text/plain": [
       "[0, 10, 20, 30, 40, 50, 60, 70, 80]"
      ]
     },
     "execution_count": 36,
     "metadata": {},
     "output_type": "execute_result"
    }
   ],
   "source": [
    "list(range(0,len(c19sweden[\"vecka\"]),10))"
   ]
  },
  {
   "cell_type": "code",
   "execution_count": null,
   "metadata": {},
   "outputs": [],
   "source": []
  }
 ],
 "metadata": {
  "interpreter": {
   "hash": "c0552d8ae2bf90ff01336472fa628af8a30caa12cfa3faa676995d0ab64866b9"
  },
  "kernelspec": {
   "display_name": "Python 3.8.10 64-bit ('databehandling-joachim-wiegert-Okb5rNS4': pipenv)",
   "name": "python3"
  },
  "language_info": {
   "codemirror_mode": {
    "name": "ipython",
    "version": 3
   },
   "file_extension": ".py",
   "mimetype": "text/x-python",
   "name": "python",
   "nbconvert_exporter": "python",
   "pygments_lexer": "ipython3",
   "version": "3.8.10"
  },
  "orig_nbformat": 4
 },
 "nbformat": 4,
 "nbformat_minor": 2
}
